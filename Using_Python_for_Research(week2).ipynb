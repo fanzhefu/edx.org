{
 "cells": [
  {
   "cell_type": "code",
   "execution_count": 4,
   "id": "e203c116",
   "metadata": {},
   "outputs": [],
   "source": [
    "#Python Libraries and Concepts Used in Research\n",
    "#In week 2, you will:\n",
    "\n",
    "#Learn about Python scope rules\n",
    "#Learn the basics of scientific and vectorized computing using numpy\n",
    "#Learn the basics of plotting with matplotlib.pyplot\n",
    "#Learn the basics of random numbers with the random module\n",
    "#Learn how to measure time"
   ]
  },
  {
   "cell_type": "code",
   "execution_count": 11,
   "id": "5427bd3d",
   "metadata": {},
   "outputs": [],
   "source": [
    "# 2.1.1: Scope Rules: LEGB rule for scope \n",
    "# local: local function you are in \n",
    "# enclosing fuction: the function called the current function\n",
    "# global: the module in which the function was defined \n",
    "# built-in: python built-in namespace\n",
    "\n",
    "def update():\n",
    "    x.append(1)\n",
    "\n",
    "# update() # NameError: name 'x' is not defined\n",
    "x=[1,1]\n",
    "update() #NameError: name 'x' is not defined\n"
   ]
  },
  {
   "cell_type": "code",
   "execution_count": 14,
   "id": "e5419f8c",
   "metadata": {},
   "outputs": [
    {
     "name": "stdout",
     "output_type": "stream",
     "text": [
      "main:  1 [0, 1, 2, 3]\n",
      "update:  2 [0, 1, 2, 3, 4]\n",
      "main:  1 [0, 1, 2, 3, 4]\n"
     ]
    }
   ],
   "source": [
    "def update(n,x):\n",
    "    n = 2\n",
    "    x.append(4)\n",
    "    print('update: ', n, x )\n",
    "\n",
    "def main():\n",
    "    n = 1\n",
    "    x = [0,1,2,3]\n",
    "    print('main: ', n, x)\n",
    "    update(n, x)\n",
    "    print('main: ', n, x)\n",
    "    \n",
    "main()"
   ]
  },
  {
   "cell_type": "code",
   "execution_count": 15,
   "id": "c4a893a7",
   "metadata": {},
   "outputs": [
    {
     "name": "stdout",
     "output_type": "stream",
     "text": [
      "10\n"
     ]
    }
   ],
   "source": [
    "def increment(n):\n",
    "    n += 1\n",
    "    #blank#\n",
    "    return n\n",
    "\n",
    "n = 1\n",
    "while n < 10:\n",
    "    n = increment(n)\n",
    "print(n)\n"
   ]
  },
  {
   "cell_type": "code",
   "execution_count": 20,
   "id": "8c665eb9",
   "metadata": {},
   "outputs": [
    {
     "data": {
      "text/plain": [
       "11"
      ]
     },
     "execution_count": 20,
     "metadata": {},
     "output_type": "execute_result"
    }
   ],
   "source": [
    "# 2.1.2: Classes and Object-Oriented Programming\n",
    "ml = [5,9,3,6,8,11,4,3,10]\n",
    "ml.sort()\n",
    "min(ml)\n",
    "max(ml)\n",
    "ml.remove(10)"
   ]
  },
  {
   "cell_type": "code",
   "execution_count": 28,
   "id": "822c860b",
   "metadata": {},
   "outputs": [
    {
     "data": {
      "text/plain": [
       "[3, 5, 2, 7, 6, 4, 8]"
      ]
     },
     "execution_count": 28,
     "metadata": {},
     "output_type": "execute_result"
    }
   ],
   "source": [
    "class MyList(list):\n",
    "    def remove_min(self):\n",
    "        self.remove(min(self))\n",
    "    def remove_max(self):\n",
    "        self.remove(max(self))\n",
    "        \n",
    "x = [10,3,5,1,2,7,6,4,8]     \n",
    "y = MyList(x)\n",
    "dir(x)\n",
    "dir(y)\n",
    "y.remove_min()\n",
    "y\n",
    "y.remove_max()\n",
    "y"
   ]
  },
  {
   "cell_type": "code",
   "execution_count": 44,
   "id": "ed539566",
   "metadata": {},
   "outputs": [
    {
     "name": "stdout",
     "output_type": "stream",
     "text": [
      "[0. 0. 0. 0. 0.]\n",
      "[1. 1. 1. 1. 1.]\n"
     ]
    }
   ],
   "source": [
    "# 2.2.1: Introduction to NumPy Arrays  - n dimension \n",
    "#  NumPy arrays, including vectors and matrices of zeros and ones\n",
    "# itegrating with c, c++, fortran code\n",
    "\n",
    "import numpy as np\n",
    "zero_vector = np.zeros(5)\n",
    "print(zero_vector)\n",
    "zero_matrix = np.zeros((5,3))\n",
    "zero_vector\n",
    "zero_matrix\n",
    "print(np.ones(5))\n",
    "#print(np.empty((5,5)))"
   ]
  },
  {
   "cell_type": "code",
   "execution_count": 41,
   "id": "22c9b204",
   "metadata": {},
   "outputs": [
    {
     "data": {
      "text/plain": [
       "array([[1, 5],\n",
       "       [3, 9]])"
      ]
     },
     "execution_count": 41,
     "metadata": {},
     "output_type": "execute_result"
    }
   ],
   "source": [
    "x = np.array([1,2,3])\n",
    "y = np.array([2,3,4])\n",
    "\n",
    "A = np.array([[1,3],[5,9]])\n",
    "\n",
    "# transpose of matrix \n",
    "A.transpose()"
   ]
  },
  {
   "cell_type": "code",
   "execution_count": null,
   "id": "deb26c57",
   "metadata": {},
   "outputs": [],
   "source": [
    "# True or False: a numpy array's length may be modified after being created. False\n"
   ]
  },
  {
   "cell_type": "code",
   "execution_count": 51,
   "id": "72952b7a",
   "metadata": {},
   "outputs": [
    {
     "name": "stdout",
     "output_type": "stream",
     "text": [
      "[3 6 9]\n",
      "[1, 2, 3, 2, 4, 6]\n"
     ]
    },
    {
     "data": {
      "text/plain": [
       "array([4, 5, 6])"
      ]
     },
     "execution_count": 51,
     "metadata": {},
     "output_type": "execute_result"
    }
   ],
   "source": [
    "#2.2.2: Slicing NumPy Arrays\n",
    "x = np.array([1,2,3])\n",
    "y = np.array([2,4,6])\n",
    "print(x+y)\n",
    "l1 = [1,2,3]\n",
    "l2 = [2,4,6]\n",
    "print(l1+l2)\n",
    "\n",
    "X = np.array([[1,2,3],[4,5,6]])\n",
    "Y = np.array([[2,4,6],[8,10,12]])\n",
    "X[:,1] # column 1\n",
    "Y[:,1]\n",
    "#first row\n",
    "X[1,:]"
   ]
  },
  {
   "cell_type": "code",
   "execution_count": 52,
   "id": "2b26b8e4",
   "metadata": {},
   "outputs": [
    {
     "data": {
      "text/plain": [
       "array([2])"
      ]
     },
     "execution_count": 52,
     "metadata": {},
     "output_type": "execute_result"
    }
   ],
   "source": [
    "x = np.array([1,2,5])\n",
    "x[1:2]"
   ]
  },
  {
   "cell_type": "code",
   "execution_count": 53,
   "id": "49d17e30",
   "metadata": {},
   "outputs": [
    {
     "data": {
      "text/plain": [
       "array([], dtype=int32)"
      ]
     },
     "execution_count": 53,
     "metadata": {},
     "output_type": "execute_result"
    }
   ],
   "source": [
    "x = np.array([1,2,5])\n",
    "x[1:1]"
   ]
  },
  {
   "cell_type": "code",
   "execution_count": 55,
   "id": "d01eca9b",
   "metadata": {},
   "outputs": [],
   "source": [
    "a = np.array([1,2])\n",
    "b = np.array([3,4,5])\n",
    "# a + b # ValueError: operands could not be broadcast together with shapes (2,) (3,) \n"
   ]
  },
  {
   "cell_type": "code",
   "execution_count": 5,
   "id": "af6fbe16",
   "metadata": {},
   "outputs": [
    {
     "data": {
      "text/plain": [
       "array([ 2,  4,  6,  8, 10])"
      ]
     },
     "execution_count": 5,
     "metadata": {},
     "output_type": "execute_result"
    }
   ],
   "source": [
    "# 2.2.3: Indexing NumPy Arrays\n",
    "import numpy as np\n",
    "z1 = np.array([1,3,5,7,9])\n",
    "z2 = z1 +1\n",
    "z2"
   ]
  },
  {
   "cell_type": "code",
   "execution_count": 6,
   "id": "7d108570",
   "metadata": {},
   "outputs": [
    {
     "data": {
      "text/plain": [
       "array([1, 5, 7])"
      ]
     },
     "execution_count": 6,
     "metadata": {},
     "output_type": "execute_result"
    }
   ],
   "source": [
    "ind = [0,2,3]\n",
    "z1[ind]"
   ]
  },
  {
   "cell_type": "code",
   "execution_count": 8,
   "id": "57c9aee8",
   "metadata": {},
   "outputs": [
    {
     "data": {
      "text/plain": [
       "array([1, 5, 7])"
      ]
     },
     "execution_count": 8,
     "metadata": {},
     "output_type": "execute_result"
    }
   ],
   "source": [
    "ind = np.array([0,2,3])\n",
    "z1[ind]"
   ]
  },
  {
   "cell_type": "code",
   "execution_count": 9,
   "id": "62d204de",
   "metadata": {},
   "outputs": [
    {
     "data": {
      "text/plain": [
       "array([False, False, False,  True,  True])"
      ]
     },
     "execution_count": 9,
     "metadata": {},
     "output_type": "execute_result"
    }
   ],
   "source": [
    "z1 > 6\n",
    "# array([1, 3, 5, 7, 9])\n",
    "# array([False, False, False,  True,  True])"
   ]
  },
  {
   "cell_type": "code",
   "execution_count": 11,
   "id": "ac7331f7",
   "metadata": {},
   "outputs": [
    {
     "data": {
      "text/plain": [
       "array([7, 9])"
      ]
     },
     "execution_count": 11,
     "metadata": {},
     "output_type": "execute_result"
    }
   ],
   "source": [
    "z1[z1 > 6]"
   ]
  },
  {
   "cell_type": "code",
   "execution_count": 12,
   "id": "b8c4ddf8",
   "metadata": {},
   "outputs": [
    {
     "data": {
      "text/plain": [
       "array([ 8, 10])"
      ]
     },
     "execution_count": 12,
     "metadata": {},
     "output_type": "execute_result"
    }
   ],
   "source": [
    "z2[z1>6]"
   ]
  },
  {
   "cell_type": "code",
   "execution_count": 14,
   "id": "f8757cdb",
   "metadata": {},
   "outputs": [
    {
     "data": {
      "text/plain": [
       "array([7, 9])"
      ]
     },
     "execution_count": 14,
     "metadata": {},
     "output_type": "execute_result"
    }
   ],
   "source": [
    "ind = z1 >6\n",
    "ind\n",
    "z1[ind]"
   ]
  },
  {
   "cell_type": "code",
   "execution_count": 18,
   "id": "dd267316",
   "metadata": {},
   "outputs": [
    {
     "name": "stdout",
     "output_type": "stream",
     "text": [
      "[1 3 5]\n",
      "[3 3 5]\n",
      "[3 3 5 7 9]\n",
      "[1 3 5]\n",
      "[3 3 5]\n",
      "[1 3 5 7 9]\n"
     ]
    }
   ],
   "source": [
    "#slicing\n",
    "z1 = np.array([1,3,5,7,9])\n",
    "w = z1[0:3]\n",
    "print(w)\n",
    "w[0]=3\n",
    "print(w)\n",
    "print(z1) # z1 also changed\n",
    "\n",
    "#indexing\n",
    "z1 = np.array([1,3,5,7,9])\n",
    "ind = np.array([0,1,2])\n",
    "w =z1[ind]\n",
    "print(w)\n",
    "w[0]=3\n",
    "print(w)\n",
    "print(z1)  # z1 not changed"
   ]
  },
  {
   "cell_type": "code",
   "execution_count": 21,
   "id": "385707e1",
   "metadata": {},
   "outputs": [
    {
     "name": "stdout",
     "output_type": "stream",
     "text": [
      "[4 5]\n",
      "[4 5]\n"
     ]
    },
    {
     "data": {
      "text/plain": [
       "False"
      ]
     },
     "execution_count": 21,
     "metadata": {},
     "output_type": "execute_result"
    }
   ],
   "source": [
    "a = np.array([1,2])\n",
    "b = np.array([3,4,5])\n",
    "print(b[a])\n",
    "c = b[1:]\n",
    "print(c)\n",
    "b[a] is c"
   ]
  },
  {
   "cell_type": "code",
   "execution_count": 24,
   "id": "ccdfc5da",
   "metadata": {},
   "outputs": [
    {
     "data": {
      "text/plain": [
       "array([  0.,  10.,  20.,  30.,  40.,  50.,  60.,  70.,  80.,  90., 100.])"
      ]
     },
     "execution_count": 24,
     "metadata": {},
     "output_type": "execute_result"
    }
   ],
   "source": [
    "# 2.2.4: Building and Examining NumPy Arrays\n",
    "# np.any(), np.all(), np.linspace(), np.logspace\n",
    "\n",
    "np.linspace(0,100,11) #start, ending(included), number of elements"
   ]
  },
  {
   "cell_type": "code",
   "execution_count": 27,
   "id": "9f5879d5",
   "metadata": {},
   "outputs": [
    {
     "data": {
      "text/plain": [
       "array([ 10.        ,  12.91549665,  16.68100537,  21.5443469 ,\n",
       "        27.82559402,  35.93813664,  46.41588834,  59.94842503,\n",
       "        77.42636827, 100.        ])"
      ]
     },
     "execution_count": 27,
     "metadata": {},
     "output_type": "execute_result"
    }
   ],
   "source": [
    "# logarithm\n",
    "np.logspace(1,2,10) # log0, log100, number of elements"
   ]
  },
  {
   "cell_type": "code",
   "execution_count": 28,
   "id": "1245544c",
   "metadata": {},
   "outputs": [
    {
     "data": {
      "text/plain": [
       "array([250.        , 270.01493472, 291.63225989, 314.98026247,\n",
       "       340.19750004, 367.43362307, 396.85026299, 428.62199143,\n",
       "       462.93735614, 500.        ])"
      ]
     },
     "execution_count": 28,
     "metadata": {},
     "output_type": "execute_result"
    }
   ],
   "source": [
    "np.logspace(np.log10(250), np.log10(500), 10)"
   ]
  },
  {
   "cell_type": "code",
   "execution_count": 41,
   "id": "92d5a679",
   "metadata": {},
   "outputs": [
    {
     "name": "stdout",
     "output_type": "stream",
     "text": [
      "[0.47976187 0.64358826 0.67497514 0.73210711 0.23440711 0.74082342\n",
      " 0.22825585 0.29763738 0.38958636 0.66414055]\n"
     ]
    },
    {
     "data": {
      "text/plain": [
       "True"
      ]
     },
     "execution_count": 41,
     "metadata": {},
     "output_type": "execute_result"
    }
   ],
   "source": [
    "X = np.array([[1,2,3],[4,5,6]])\n",
    "# shape and size are data attributes not method\n",
    "X.shape\n",
    "X.size\n",
    "\n",
    "x = np.random.random(10)\n",
    "print(x)\n",
    "np.any(x>.9)\n",
    "np.all(x>=.1)"
   ]
  },
  {
   "cell_type": "code",
   "execution_count": 50,
   "id": "fb6f14ed",
   "metadata": {},
   "outputs": [
    {
     "data": {
      "text/plain": [
       "False"
      ]
     },
     "execution_count": 50,
     "metadata": {},
     "output_type": "execute_result"
    }
   ],
   "source": [
    "# find wheter x is prime\n",
    "x=15\n",
    "not np.any([x%i == 0 for i in range(2, x)])"
   ]
  },
  {
   "cell_type": "code",
   "execution_count": 6,
   "id": "1edb50e9",
   "metadata": {},
   "outputs": [
    {
     "data": {
      "image/png": "[encoded data removed]",
      "text/plain": [
       "<Figure size 432x288 with 1 Axes>"
      ]
     },
     "metadata": {
      "needs_background": "light"
     },
     "output_type": "display_data"
    }
   ],
   "source": [
    "# 2.3.1: Introduction to Matplotlib and Pyplot \n",
    "# simple plots using matplotlib.pyplot\n",
    "# set PATH=%PATH%;C:\\Anaconda3 \n",
    "# set PATH=%PATH%;C:\\Anaconda3\\Scripts\n",
    "# set PATH=%PATH%;C:\\Anaconda3\\Library\\bin \n",
    "# c:\\ pip install matplotlib\n",
    "import matplotlib.pyplot as plt\n",
    "plt.plot([0,1,4,9,16]); # ; to supress the obj info\n",
    "# iphython shell"
   ]
  },
  {
   "cell_type": "code",
   "execution_count": 7,
   "id": "f2066a4f",
   "metadata": {},
   "outputs": [
    {
     "data": {
      "image/png": "[encoded data removed]",
      "text/plain": [
       "<Figure size 432x288 with 1 Axes>"
      ]
     },
     "metadata": {
      "needs_background": "light"
     },
     "output_type": "display_data"
    }
   ],
   "source": [
    "import matplotlib.pyplot as plt\n",
    "plt.plot([0,1,4,9,16])\n",
    "plt.show() # normal python shell\n"
   ]
  },
  {
   "cell_type": "code",
   "execution_count": 11,
   "id": "40c476de",
   "metadata": {},
   "outputs": [
    {
     "data": {
      "image/png": "[encoded data removed]",
      "text/plain": [
       "<Figure size 432x288 with 1 Axes>"
      ]
     },
     "metadata": {
      "needs_background": "light"
     },
     "output_type": "display_data"
    }
   ],
   "source": [
    "import numpy as np\n",
    "x = np.linspace(0,10,20)\n",
    "y = x**2\n",
    "plt.plot(x,y); # parabola shap"
   ]
  },
  {
   "cell_type": "code",
   "execution_count": 14,
   "id": "b7a3443e",
   "metadata": {},
   "outputs": [
    {
     "data": {
      "image/png": "[encoded data removed]",
      "text/plain": [
       "<Figure size 432x288 with 1 Axes>"
      ]
     },
     "metadata": {
      "needs_background": "light"
     },
     "output_type": "display_data"
    }
   ],
   "source": [
    "import numpy as np\n",
    "x = np.linspace(0,10,20)\n",
    "y1 = x**2\n",
    "y2 =x**1.5\n",
    "plt.plot(x, y1, 'bo-', linewidth=2, markersize=4); # blue, circle, solid line\n",
    "plt.plot(x, y2, 'gs-'); # green, square, solid line\n"
   ]
  },
  {
   "cell_type": "code",
   "execution_count": 15,
   "id": "91df1ca7",
   "metadata": {},
   "outputs": [
    {
     "data": {
      "text/plain": [
       "[<matplotlib.lines.Line2D at 0x2aebb007550>]"
      ]
     },
     "execution_count": 15,
     "metadata": {},
     "output_type": "execute_result"
    },
    {
     "data": {
      "image/png": "[encoded data removed]",
      "text/plain": [
       "<Figure size 432x288 with 1 Axes>"
      ]
     },
     "metadata": {
      "needs_background": "light"
     },
     "output_type": "display_data"
    }
   ],
   "source": [
    "plt.plot([0,1,2],[0,1,4],\"rd-\")"
   ]
  },
  {
   "cell_type": "code",
   "execution_count": 23,
   "id": "114ad8b1",
   "metadata": {},
   "outputs": [
    {
     "data": {
      "image/png": "[encoded data removed]",
      "text/plain": [
       "<Figure size 432x288 with 1 Axes>"
      ]
     },
     "metadata": {
      "needs_background": "light"
     },
     "output_type": "display_data"
    }
   ],
   "source": [
    "# 2.3.2: Customizing Your Plots\n",
    "# adding a legend and by adjusting and labeling the axes\n",
    "# save figures\n",
    "# legend(), axis(), xlabel(), ylabel(), savefig()\n",
    "x = np.linspace(0,10,20)\n",
    "y1 = x**2\n",
    "y2 =x**1.5\n",
    "plt.plot(x, y1, 'bo-', linewidth=2, markersize=4, label=\"First\"); # blue, circle, solid line\n",
    "plt.plot(x, y2, 'gs-', label=\"Second\"); # green, square, solid line\n",
    "plt.xlabel(\"$X$\") # LaTex\n",
    "plt.ylabel(\"$Y$\")\n",
    "plt.axis([-0.5,10.5,-5,105]) #xmin, xmax, ymin, ymax\n",
    "plt.legend(loc='upper left')\n",
    "plt.savefig('myplot.pdf')"
   ]
  },
  {
   "cell_type": "code",
   "execution_count": 25,
   "id": "cec6d7f7",
   "metadata": {},
   "outputs": [
    {
     "name": "stderr",
     "output_type": "stream",
     "text": [
      "C:\\Users\\fan.z\\AppData\\Local\\Temp\\ipykernel_4292\\1868519664.py:9: UserWarning: Attempted to set non-positive left xlim on a log-scaled axis.\n",
      "Invalid limit will be ignored.\n",
      "  plt.axis([-0.5,10.5,-5,105]) #xmin, xmax, ymin, ymax\n",
      "C:\\Users\\fan.z\\AppData\\Local\\Temp\\ipykernel_4292\\1868519664.py:9: UserWarning: Attempted to set non-positive bottom ylim on a log-scaled axis.\n",
      "Invalid limit will be ignored.\n",
      "  plt.axis([-0.5,10.5,-5,105]) #xmin, xmax, ymin, ymax\n"
     ]
    },
    {
     "data": {
      "image/png": "[encoded data removed]",
      "text/plain": [
       "<Figure size 432x288 with 1 Axes>"
      ]
     },
     "metadata": {
      "needs_background": "light"
     },
     "output_type": "display_data"
    }
   ],
   "source": [
    "# 2.3.3: Plotting Using Logarithmic Axes: semilogx, semilogy, and loglog\n",
    "x = np.logspace(-1,1,40) # 0.1, 10\n",
    "y1 = x**2\n",
    "y2 =x**1.5\n",
    "plt.loglog(x, y1, 'bo-', linewidth=2, markersize=4, label=\"First\"); # blue, circle, solid line\n",
    "plt.loglog(x, y2, 'gs-', label=\"Second\"); # green, square, solid line\n",
    "plt.xlabel(\"$X$\") # LaTex\n",
    "plt.ylabel(\"$Y$\")\n",
    "plt.axis([-0.5,10.5,-5,105]) #xmin, xmax, ymin, ymax\n",
    "plt.legend(loc='upper left')\n",
    "plt.savefig('myplot.pdf')"
   ]
  },
  {
   "cell_type": "code",
   "execution_count": 26,
   "id": "42773dbe",
   "metadata": {},
   "outputs": [
    {
     "data": {
      "text/plain": [
       "[<matplotlib.lines.Line2D at 0x2aec0ee09d0>]"
      ]
     },
     "execution_count": 26,
     "metadata": {},
     "output_type": "execute_result"
    },
    {
     "data": {
      "image/png": "[encoded data removed]",
      "text/plain": [
       "<Figure size 432x288 with 1 Axes>"
      ]
     },
     "metadata": {
      "needs_background": "light"
     },
     "output_type": "display_data"
    }
   ],
   "source": [
    "x = np.logspace(0,1,10)\n",
    "y = x**2 # log(y)=2*log(x)\n",
    "plt.loglog(x,y,\"bo-\")\n"
   ]
  },
  {
   "cell_type": "code",
   "execution_count": 31,
   "id": "53e228b5",
   "metadata": {},
   "outputs": [
    {
     "data": {
      "text/plain": [
       "-2.984907235544535"
      ]
     },
     "execution_count": 31,
     "metadata": {},
     "output_type": "execute_result"
    },
    {
     "data": {
      "image/png": "[encoded data removed]",
      "text/plain": [
       "<Figure size 432x288 with 1 Axes>"
      ]
     },
     "metadata": {
      "needs_background": "light"
     },
     "output_type": "display_data"
    }
   ],
   "source": [
    "# 2.3.4: Generating Histograms\n",
    "# plt.hist(), plt.subplot()\n",
    "import numpy as np\n",
    "import matplotlib.pyplot as plt\n",
    "# help(plt.hist)\n",
    "x = np.random.normal(size=1000)\n",
    "plt.hist(x)\n",
    "# by default, 10 even spaced bins are used\n"
   ]
  },
  {
   "cell_type": "code",
   "execution_count": 44,
   "id": "cf90630e",
   "metadata": {},
   "outputs": [
    {
     "data": {
      "image/png": "[encoded data removed]",
      "text/plain": [
       "<Figure size 432x288 with 1 Axes>"
      ]
     },
     "metadata": {
      "needs_background": "light"
     },
     "output_type": "display_data"
    }
   ],
   "source": [
    "plt.hist(x, density=True); #nomaed-> density \n"
   ]
  },
  {
   "cell_type": "code",
   "execution_count": 43,
   "id": "861d474b",
   "metadata": {},
   "outputs": [
    {
     "data": {
      "image/png": "[encoded data removed]",
      "text/plain": [
       "<Figure size 432x288 with 1 Axes>"
      ]
     },
     "metadata": {
      "needs_background": "light"
     },
     "output_type": "display_data"
    }
   ],
   "source": [
    "plt.hist(x, density=True, bins=np.linspace(-5,5,21));\n"
   ]
  },
  {
   "cell_type": "code",
   "execution_count": 46,
   "id": "14c8a7ec",
   "metadata": {},
   "outputs": [
    {
     "data": {
      "text/plain": [
       "(array([0.07837, 0.23166, 0.39835, 0.54524, 0.66489, 0.75841, 0.82879,\n",
       "        0.87916, 0.91508, 0.94171, 0.95989, 0.97332, 0.98203, 0.98835,\n",
       "        0.99224, 0.99495, 0.99681, 0.99795, 0.99868, 0.99903, 0.99932,\n",
       "        0.99954, 0.99972, 0.99982, 0.99987, 0.9999 , 0.99992, 0.99995,\n",
       "        0.99999, 1.     ]),\n",
       " array([6.62902629e-03, 1.37140339e+00, 2.73617776e+00, 4.10095213e+00,\n",
       "        5.46572650e+00, 6.83050087e+00, 8.19527523e+00, 9.56004960e+00,\n",
       "        1.09248240e+01, 1.22895983e+01, 1.36543727e+01, 1.50191471e+01,\n",
       "        1.63839214e+01, 1.77486958e+01, 1.91134702e+01, 2.04782445e+01,\n",
       "        2.18430189e+01, 2.32077933e+01, 2.45725677e+01, 2.59373420e+01,\n",
       "        2.73021164e+01, 2.86668908e+01, 3.00316651e+01, 3.13964395e+01,\n",
       "        3.27612139e+01, 3.41259882e+01, 3.54907626e+01, 3.68555370e+01,\n",
       "        3.82203113e+01, 3.95850857e+01, 4.09498601e+01]),\n",
       " [<matplotlib.patches.Polygon at 0x2aebfc45040>])"
      ]
     },
     "execution_count": 46,
     "metadata": {},
     "output_type": "execute_result"
    },
    {
     "data": {
      "image/png": "[encoded data removed]",
      "text/plain": [
       "<Figure size 432x288 with 4 Axes>"
      ]
     },
     "metadata": {
      "needs_background": "light"
     },
     "output_type": "display_data"
    }
   ],
   "source": [
    "# gamma dstribution\n",
    "x = np.random.gamma(2,3,100000)\n",
    "plt.figure();\n",
    "\n",
    "plt.subplot(221) # 211 is equivalent to nrows=2, ncols=1, plot_number=1.\n",
    "plt.hist(x, bins=30)\n",
    "\n",
    "plt.subplot(222)\n",
    "plt.hist(x, bins=30, density =True)  #nomaed-> density \n",
    "\n",
    "plt.subplot(223)\n",
    "plt.hist(x, bins=30, cumulative=30)\n",
    "\n",
    "plt.subplot(224)\n",
    "plt.hist(x, bins=30, density =True, cumulative=True, histtype='step')\n"
   ]
  },
  {
   "cell_type": "code",
   "execution_count": null,
   "id": "fb2881ca",
   "metadata": {},
   "outputs": [],
   "source": [
    "# What will plt.subplot(333) do?\n",
    "# Create a smaller subplot in the top right of the figure.\n",
    "\n",
    "# Will plt.subplot(3, 3, 3) create a different plot from plt.subplot(333)?\n",
    "# no"
   ]
  },
  {
   "cell_type": "code",
   "execution_count": 65,
   "id": "50670613",
   "metadata": {
    "scrolled": true
   },
   "outputs": [
    {
     "name": "stdout",
     "output_type": "stream",
     "text": [
      "5\n",
      "range(1, 7)\n"
     ]
    },
    {
     "data": {
      "text/plain": [
       "8"
      ]
     },
     "execution_count": 65,
     "metadata": {},
     "output_type": "execute_result"
    }
   ],
   "source": [
    "# 2.4.1: Simulating Randomness\n",
    "import random\n",
    "\n",
    "random.choice(['H','T'])\n",
    "random.choice([0,1])\n",
    "\n",
    "roll_a_die = random.choice([1,2,3,4,5,6])\n",
    "roll_a_die = random.choice(range(1,7))\n",
    "print(roll_a_die)\n",
    "\n",
    "# range(1,7) is only object in the sequence\n",
    "roll_a_die = random.choice([range(1,7)])\n",
    "print(roll_a_die)\n",
    "# return range(1, 7)\n",
    "\n",
    "# choose three dices of 6,8,10 sides first, then roll the die\n",
    "random.choice(random.choice([range(1,7),range(1,9),range(1,11)]))"
   ]
  },
  {
   "cell_type": "code",
   "execution_count": 103,
   "id": "bee9fbe5",
   "metadata": {},
   "outputs": [
    {
     "data": {
      "image/png": "[encoded data removed]",
      "text/plain": [
       "<Figure size 432x288 with 1 Axes>"
      ]
     },
     "metadata": {
      "needs_background": "light"
     },
     "output_type": "display_data"
    }
   ],
   "source": [
    "#2.4.2: Examples Involving Randomness\n",
    "import random\n",
    "import numpy as np\n",
    "import matplotlib.pyplot as plt\n",
    "\n",
    "rolls = []\n",
    "for k in range(100000):\n",
    "    rolls.append(random.choice([1,2,3,4,5,6]))\n",
    "\n",
    "plt.hist(rolls, bins=np.linspace(0.5,6.5,7));\n"
   ]
  },
  {
   "cell_type": "code",
   "execution_count": 116,
   "id": "3eb885b5",
   "metadata": {},
   "outputs": [
    {
     "data": {
      "image/png": "[encoded data removed]",
      "text/plain": [
       "<Figure size 432x288 with 1 Axes>"
      ]
     },
     "metadata": {
      "needs_background": "light"
     },
     "output_type": "display_data"
    }
   ],
   "source": [
    "import random\n",
    "import numpy as np\n",
    "import matplotlib.pyplot as plt\n",
    "\n",
    "ys = []\n",
    "\n",
    "for rep in range(1000000):\n",
    "    y = 0\n",
    "    for k in range(10):\n",
    "        x = random.choice([1,2,3,4,5,6])\n",
    "        y = y + x\n",
    "    ys.append(y)\n",
    "    \n",
    "plt.hist(ys);    \n",
    "#CLT central limit theorem, normal distribution"
   ]
  },
  {
   "cell_type": "code",
   "execution_count": 121,
   "id": "251d2e0a",
   "metadata": {},
   "outputs": [],
   "source": [
    "# Q:What is the law of large numbers with respect to histograms?\n",
    "# A:We expect the histogram of a sample to better reflect the distribution as the sample size increases.\n",
    "\n",
    "# Q:What is the Central Limit Theorem?\n",
    "# A:\n",
    "\n",
    "'''The so-called central limit theorem, or CLT,\n",
    "states that the sum of a large number of random variables\n",
    "regardless of their distribution will approximately\n",
    "follow a normal distribution.''' \n",
    "\n"
   ]
  },
  {
   "cell_type": "code",
   "execution_count": 131,
   "id": "790301a1",
   "metadata": {},
   "outputs": [
    {
     "data": {
      "text/plain": [
       "array([[ 1.10213928,  2.29341705, -0.35785851, -0.58864718, -0.05930435],\n",
       "       [ 0.52486392, -0.90746297, -0.73670687,  0.45963037,  2.04165991]])"
      ]
     },
     "execution_count": 131,
     "metadata": {},
     "output_type": "execute_result"
    }
   ],
   "source": [
    "# 2.4.3: Using the NumPy Random Module\n",
    "import numpy as np\n",
    "\n",
    "np.random.random()\n",
    "np.random.random(5)\n",
    "np.random.random((5,3)) # 5 rows and 3 columns\n",
    "\n",
    "#standard normal distribution mean=0, std deviation=1\n",
    "np.random.normal(0,1) # mean=0, dev=1\n",
    "np.random.normal(0,1,5) # mean=0, dev=1, 1 dimension 5 numbers\n",
    "np.random.normal(0,1,(2,5)) # mean=0, dev=1, 2 dimension "
   ]
  },
  {
   "cell_type": "code",
   "execution_count": 148,
   "id": "f4af49c6",
   "metadata": {},
   "outputs": [
    {
     "data": {
      "text/plain": [
       "(array([1.37000e+02, 2.82200e+03, 3.57040e+04, 1.17578e+05, 3.07776e+05,\n",
       "        2.74936e+05, 2.02634e+05, 4.91060e+04, 9.00500e+03, 3.02000e+02]),\n",
       " array([12. , 16.5, 21. , 25.5, 30. , 34.5, 39. , 43.5, 48. , 52.5, 57. ]),\n",
       " <BarContainer object of 10 artists>)"
      ]
     },
     "execution_count": 148,
     "metadata": {},
     "output_type": "execute_result"
    },
    {
     "data": {
      "image/png": "[encoded data removed]",
      "text/plain": [
       "<Figure size 432x288 with 1 Axes>"
      ]
     },
     "metadata": {
      "needs_background": "light"
     },
     "output_type": "display_data"
    }
   ],
   "source": [
    "# numpy is 10 times faster than python\n",
    "\n",
    "X = np.random.randint(1,7, (1000000,10)) #1000 rows, 10 col\n",
    "np.sum(X, axis=0)\n",
    "Y = np.sum(X, axis=1) # row\n",
    "plt.hist(Y)"
   ]
  },
  {
   "cell_type": "code",
   "execution_count": 147,
   "id": "4e8a369c",
   "metadata": {},
   "outputs": [
    {
     "data": {
      "text/plain": [
       "array([4, 5, 6, 6, 1, 2, 2, 2, 1, 6])"
      ]
     },
     "execution_count": 147,
     "metadata": {},
     "output_type": "execute_result"
    }
   ],
   "source": [
    "# What does numpy.random.random((5,2,3)) do?\n",
    "# Generates a 5 x 2 x 3 NumPy array with random uniform values.\n",
    "\n",
    "# What does numpy.random.normal(1,2,3) do?\n",
    "# Generates 3 samples with mean 1 and standard deviation 2.\n",
    "\n",
    "# What does numpy.random.randint(1,5,(2,3)) do?\n",
    "# Generates a 2 x 3 array with random integers from 1-4.\n",
    "\n",
    "# What is the dimension of numpy.sum(numpy.random.randint(1,7,(100,10)), axis=0)?\n",
    "# array([4, 5, 6, 6, 1, 2, 2, 2, 1, 6])\n",
    "# 10"
   ]
  },
  {
   "cell_type": "code",
   "execution_count": 178,
   "id": "15690fd5",
   "metadata": {},
   "outputs": [
    {
     "name": "stdout",
     "output_type": "stream",
     "text": [
      "9.883299350738525\n"
     ]
    }
   ],
   "source": [
    "# 2.4.4: Measuring Time\n",
    "import time\n",
    "\n",
    "start_time = time.time()\n",
    "ys = []\n",
    "for rep in range(1000000):\n",
    "    y = 0\n",
    "    for k in range(10):\n",
    "        x = random.choice([1,2,3,4,5,6])\n",
    "        y = y + x\n",
    "    ys.append(y)\n",
    "    \n",
    "end_time = time.time()\n",
    "print(end_time - start_time)\n"
   ]
  },
  {
   "cell_type": "code",
   "execution_count": 182,
   "id": "9f97047e",
   "metadata": {},
   "outputs": [
    {
     "name": "stdout",
     "output_type": "stream",
     "text": [
      "0.13792204856872559\n"
     ]
    }
   ],
   "source": [
    "import time\n",
    "import numpy as np\n",
    "\n",
    "start_time = time.time()\n",
    "X = np.random.randint(1,7, (1000000, 10))\n",
    "Y = np.sum(X, axis=1)\n",
    "\n",
    "end_time = time.time()\n",
    "print(end_time - start_time)\n"
   ]
  },
  {
   "cell_type": "code",
   "execution_count": 219,
   "id": "340b11ed",
   "metadata": {},
   "outputs": [
    {
     "name": "stdout",
     "output_type": "stream",
     "text": [
      "[-0.21453604  0.72696542 -1.01510016 -0.60662453 -0.16025463] [ 2.13733972  0.38286624  1.32389187 -0.22242307 -0.30702029]\n",
      "[[-0.21453604  0.51242938 -0.50267078 -1.10929531 -1.26954995]\n",
      " [ 2.13733972  2.52020596  3.84409783  3.62167476  3.31465446]]\n"
     ]
    },
    {
     "data": {
      "image/png": "[encoded data removed]",
      "text/plain": [
       "<Figure size 432x288 with 1 Axes>"
      ]
     },
     "metadata": {
      "needs_background": "light"
     },
     "output_type": "display_data"
    }
   ],
   "source": [
    "# 2.4.5: Random Walks\n",
    "import numpy as np\n",
    "\n",
    "delta_x = np.random.normal(0,1, (2,5)) #mea, diav, row=2, col=5\n",
    "print(delta_x[0], delta_x[1])\n",
    "plt.plot(delta_x[0], delta_x[1], 'go')\n",
    "\n",
    "X = np.cumsum(delta_x, axis=1) #axis=1 axis X, 0 is y\n",
    "print(X)\n",
    "plt.plot(X[0],X[1], 'ro-')\n",
    "plt.savefig('rw.pdf')"
   ]
  },
  {
   "cell_type": "code",
   "execution_count": 220,
   "id": "5a8c81f9",
   "metadata": {},
   "outputs": [
    {
     "name": "stdout",
     "output_type": "stream",
     "text": [
      "[[0]\n",
      " [0]]\n"
     ]
    },
    {
     "data": {
      "image/png": "[encoded data removed]",
      "text/plain": [
       "<Figure size 432x288 with 1 Axes>"
      ]
     },
     "metadata": {
      "needs_background": "light"
     },
     "output_type": "display_data"
    }
   ],
   "source": [
    "\n",
    "X_0 = np.array([[0],[0]])\n",
    "print(X_0)\n",
    "delta_x = np.random.normal(0,1, (2,5))\n",
    "X = np.concatenate((X_0,np.cumsum(delta_x, axis=1)), axis=1)\n",
    "\n",
    "plt.plot(X[0],X[1], 'ro-')\n",
    "plt.savefig('rw2.pdf')"
   ]
  },
  {
   "cell_type": "code",
   "execution_count": 202,
   "id": "354415cf",
   "metadata": {},
   "outputs": [
    {
     "data": {
      "image/png": "[encoded data removed]",
      "text/plain": [
       "<Figure size 432x288 with 1 Axes>"
      ]
     },
     "metadata": {
      "needs_background": "light"
     },
     "output_type": "display_data"
    }
   ],
   "source": [
    "X_0 = np.array([[0],[0]])\n",
    "delta_x = np.random.normal(0,1, (2,100)) # 100 walks\n",
    "X = np.concatenate((X_0,np.cumsum(delta_x, axis=1)), axis=1) #cumulative sum\n",
    "\n",
    "plt.plot(X[0],X[1], 'ro-')\n",
    "plt.savefig('rw3.pdf')"
   ]
  },
  {
   "cell_type": "code",
   "execution_count": null,
   "id": "c7a99134",
   "metadata": {},
   "outputs": [],
   "source": [
    "#Q: What does np.concatenate do?\n",
    "#A: How are the displacements, the individual steps, in the random walk related to one another?\n",
    "#Q: Takes an iterable of np.arrays as arguments, and binds them along the axis argument.\n",
    "#A: Any two consecutive displacements are independent of one another.\n",
    "\n"
   ]
  },
  {
   "cell_type": "code",
   "execution_count": null,
   "id": "5ffd3fec",
   "metadata": {},
   "outputs": [],
   "source": [
    "Homework: Week 2\n",
    "HW2.ipynb"
   ]
  },
  {
   "cell_type": "code",
   "execution_count": null,
   "id": "50354ff4",
   "metadata": {},
   "outputs": [],
   "source": []
  }
 ],
 "metadata": {
  "kernelspec": {
   "display_name": "Python 3 (ipykernel)",
   "language": "python",
   "name": "python3"
  },
  "language_info": {
   "codemirror_mode": {
    "name": "ipython",
    "version": 3
   },
   "file_extension": ".py",
   "mimetype": "text/x-python",
   "name": "python",
   "nbconvert_exporter": "python",
   "pygments_lexer": "ipython3",
   "version": "3.9.7"
  }
 },
 "nbformat": 4,
 "nbformat_minor": 5
}
