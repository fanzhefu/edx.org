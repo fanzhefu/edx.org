{
 "cells": [
  {
   "cell_type": "markdown",
   "id": "f908d0f6",
   "metadata": {},
   "source": [
    "\n",
    "#https://pll.harvard.edu/course/using-python-research?delta=1\n",
    "#In Week 1, you will review:\n",
    "\n",
    "#Python data types (lists, dictionaries, tuples, etc.)\n",
    "#Statements (if, while, for, etc.)\n",
    "#Dynamic typing\n",
    "#Functions\n",
    "#Common errors and how to fix them"
   ]
  },
  {
   "cell_type": "code",
   "execution_count": 19,
   "id": "3a80356d",
   "metadata": {},
   "outputs": [
    {
     "name": "stdout",
     "output_type": "stream",
     "text": [
      "True True\n",
      "True True\n",
      "2676691231584 2676691231584 2676691231584\n"
     ]
    }
   ],
   "source": [
    "t = (1,2,3,4)\n",
    "\n",
    "x = t\n",
    "y = t[:]\n",
    "#AttributeError: 'tuple' object has no attribute 'copy'\n",
    "#z = t.copy()\n",
    "\n",
    "print(x==t, x is t)\n",
    "print(y==t, y is t)\n",
    "\n",
    "print(id(t), id(x),id(y))"
   ]
  },
  {
   "cell_type": "code",
   "execution_count": 21,
   "id": "e7f07e55",
   "metadata": {},
   "outputs": [
    {
     "name": "stdout",
     "output_type": "stream",
     "text": [
      "True True\n",
      "True False\n",
      "True False\n",
      "2676691139392 2676691139392 2676691111872 2676691109120\n"
     ]
    }
   ],
   "source": [
    "l = [1,2,3,4]\n",
    "\n",
    "x = l\n",
    "y = l[:]\n",
    "z = l.copy()\n",
    "\n",
    "print(x==l, x is l)\n",
    "print(y==l, y is l)\n",
    "print(z==l, z is l)\n",
    "print(id(l), id(x),id(y), id(z))"
   ]
  },
  {
   "cell_type": "code",
   "execution_count": 28,
   "id": "d2228956",
   "metadata": {},
   "outputs": [
    {
     "name": "stdout",
     "output_type": "stream",
     "text": [
      "True True\n",
      "True False\n",
      "2676690557184 2676690557184 2676690557856\n"
     ]
    }
   ],
   "source": [
    "s = {1,2,3,4}\n",
    "\n",
    "x = s\n",
    "# TypeError: 'set' object is not subscriptable\n",
    "# y = s[:]\n",
    "z = s.copy()\n",
    "\n",
    "print(x==s, x is s)\n",
    "#print(y==s, y is s)\n",
    "print(z==s, z is s)\n",
    "print(id(s), id(x), id(z))"
   ]
  },
  {
   "cell_type": "code",
   "execution_count": 31,
   "id": "ea516ec2",
   "metadata": {},
   "outputs": [
    {
     "name": "stdout",
     "output_type": "stream",
     "text": [
      "True True\n",
      "True False\n",
      "2676690368832 2676690368832 2676690139456\n"
     ]
    }
   ],
   "source": [
    "d = {1:'a',2:'b',3:'c',4:'d'}\n",
    "\n",
    "x = d\n",
    "# TypeError: 'set' object is not subscriptable\n",
    "#y = d[:]\n",
    "z = d.copy()\n",
    "\n",
    "print(x==d, x is d)\n",
    "#print(y==d, y is d)\n",
    "print(z==d, z is d)\n",
    "print(id(d), id(x), id(z))"
   ]
  },
  {
   "cell_type": "markdown",
   "id": "f3d60517",
   "metadata": {},
   "source": [
    "1.1.2 object: type, value, and identity{id()}\n",
    "    mutable, immutable. \n",
    "\n",
    "object: data attributes; methods"
   ]
  },
  {
   "cell_type": "code",
   "execution_count": 42,
   "id": "895af1bd",
   "metadata": {},
   "outputs": [
    {
     "data": {
      "text/plain": [
       "(3,)"
      ]
     },
     "execution_count": 42,
     "metadata": {},
     "output_type": "execute_result"
    }
   ],
   "source": [
    "import numpy as np\n",
    "\n",
    "x = np.array([1,3,5])\n",
    "y = np.array([1,5,9])\n",
    "\n",
    "# methods\n",
    "x.mean()\n",
    "y.mean()\n",
    "\n",
    "# data attributes\n",
    "x.shape\n",
    "y.shape"
   ]
  },
  {
   "cell_type": "code",
   "execution_count": 53,
   "id": "28eaf455",
   "metadata": {},
   "outputs": [
    {
     "data": {
      "text/plain": [
       "1.0"
      ]
     },
     "execution_count": 53,
     "metadata": {},
     "output_type": "execute_result"
    }
   ],
   "source": [
    "# 1.1.3 modules and methods\n",
    "import math\n",
    "\n",
    "math.pi\n",
    "math.sqrt(10)\n",
    "math.pi /2\n",
    "math.sin(math.pi/2)"
   ]
  },
  {
   "cell_type": "code",
   "execution_count": 55,
   "id": "71a56705",
   "metadata": {},
   "outputs": [
    {
     "data": {
      "text/plain": [
       "3.141592653589793"
      ]
     },
     "execution_count": 55,
     "metadata": {},
     "output_type": "execute_result"
    }
   ],
   "source": [
    "# only need pi\n",
    "from math import pi \n",
    "pi"
   ]
  },
  {
   "cell_type": "code",
   "execution_count": 56,
   "id": "6159eddb",
   "metadata": {},
   "outputs": [],
   "source": [
    "# name space\n",
    "import math\n",
    "import numpy as np"
   ]
  },
  {
   "cell_type": "code",
   "execution_count": 59,
   "id": "6dec9c6c",
   "metadata": {},
   "outputs": [
    {
     "data": {
      "text/plain": [
       "1.4142135623730951"
      ]
     },
     "execution_count": 59,
     "metadata": {},
     "output_type": "execute_result"
    }
   ],
   "source": [
    "math.sqrt(2)\n"
   ]
  },
  {
   "cell_type": "code",
   "execution_count": 60,
   "id": "49405945",
   "metadata": {},
   "outputs": [
    {
     "data": {
      "text/plain": [
       "1.4142135623730951"
      ]
     },
     "execution_count": 60,
     "metadata": {},
     "output_type": "execute_result"
    }
   ],
   "source": [
    "np.sqrt(2)\n"
   ]
  },
  {
   "cell_type": "code",
   "execution_count": 64,
   "id": "a1f5e6cb",
   "metadata": {},
   "outputs": [
    {
     "data": {
      "text/plain": [
       "array([1.41421356, 2.        , 2.82842712])"
      ]
     },
     "execution_count": 64,
     "metadata": {},
     "output_type": "execute_result"
    }
   ],
   "source": [
    "# TypeError: must be real number, not list\n",
    "# math.sqrt([2,4,8])\n",
    "np.sqrt([2,4,8])"
   ]
  },
  {
   "cell_type": "code",
   "execution_count": 70,
   "id": "87b34bfc",
   "metadata": {},
   "outputs": [
    {
     "name": "stdout",
     "output_type": "stream",
     "text": [
      "Help on built-in function upper:\n",
      "\n",
      "upper() method of builtins.str instance\n",
      "    Return a copy of the string converted to uppercase.\n",
      "\n",
      "No Python documentation found for 'AMY'.\n",
      "Use help() to get the interactive help utility.\n",
      "Use help(str) for help on the str class.\n",
      "\n"
     ]
    }
   ],
   "source": [
    "name = 'Amy'\n",
    "type(name)\n",
    "dir(name)\n",
    "dir(str)\n",
    "help(name.upper)\n",
    "name.upper()\n",
    "help(name.upper()) # method run"
   ]
  },
  {
   "cell_type": "code",
   "execution_count": 74,
   "id": "8b42bcdd",
   "metadata": {},
   "outputs": [
    {
     "name": "stdout",
     "output_type": "stream",
     "text": [
      "2\n",
      "-3\n"
     ]
    }
   ],
   "source": [
    "#1.1.4 numbers and basic calculations: integer, flowting, complex\n",
    "123**34\n",
    "# python has unlimited precision for integers \n",
    "\n",
    "# floor division\n",
    "print(15//7)\n",
    "print(-15//7)"
   ]
  },
  {
   "cell_type": "code",
   "execution_count": 78,
   "id": "fbb50baa",
   "metadata": {},
   "outputs": [
    {
     "data": {
      "text/plain": [
       "6.521739130434783"
      ]
     },
     "execution_count": 78,
     "metadata": {},
     "output_type": "execute_result"
    }
   ],
   "source": [
    "# underscore operator, is always the last object\n",
    "15/2.3\n",
    "_"
   ]
  },
  {
   "cell_type": "code",
   "execution_count": 79,
   "id": "2ca34459",
   "metadata": {},
   "outputs": [
    {
     "data": {
      "text/plain": [
       "720"
      ]
     },
     "execution_count": 79,
     "metadata": {},
     "output_type": "execute_result"
    }
   ],
   "source": [
    "# factorial: n!=n.(n-1)...2.1\n",
    "import math\n",
    "math.factorial(6)"
   ]
  },
  {
   "cell_type": "code",
   "execution_count": 113,
   "id": "53d6fcfa",
   "metadata": {},
   "outputs": [
    {
     "data": {
      "text/plain": [
       "66"
      ]
     },
     "execution_count": 113,
     "metadata": {},
     "output_type": "execute_result"
    }
   ],
   "source": [
    "#1.1.5 random choice\n",
    "import random\n",
    "random.choice([2,44,55,66])\n",
    "random.choice(['aa','bb','cc','dd'])\n",
    "# \n",
    "random.choice((2,44,55,66))\n"
   ]
  },
  {
   "cell_type": "code",
   "execution_count": 115,
   "id": "334075cb",
   "metadata": {},
   "outputs": [
    {
     "data": {
      "text/plain": [
       "True"
      ]
     },
     "execution_count": 115,
     "metadata": {},
     "output_type": "execute_result"
    }
   ],
   "source": [
    "#1.1.6 expresions and booleans\n",
    "# True False not or and\n",
    "# == != <= >= < >\n",
    "2==2.0"
   ]
  },
  {
   "cell_type": "code",
   "execution_count": null,
   "id": "aaf814ec",
   "metadata": {},
   "outputs": [],
   "source": [
    "#1.2.1 sequences : lists, tuples, range objects, strings\n",
    "# indexing (from 0 to right, or from -1 to left) \n",
    "# splicing"
   ]
  },
  {
   "cell_type": "code",
   "execution_count": 134,
   "id": "fae5d390",
   "metadata": {},
   "outputs": [],
   "source": [
    "#1.2.2 lists: mutable, string: immutable\n",
    "# lists methods are called in-place methods, they modifiy the original list\n",
    "n=[1,2,3,4]\n",
    "m=['a','b','c']\n",
    "n+m\n",
    "n.reverse()\n",
    "m.sort()\n",
    "#sorted() constructed a new list\n",
    "len(n)"
   ]
  },
  {
   "cell_type": "code",
   "execution_count": 13,
   "id": "ef0e6645",
   "metadata": {},
   "outputs": [
    {
     "name": "stdout",
     "output_type": "stream",
     "text": [
      "12.34 23.45\n"
     ]
    }
   ],
   "source": [
    "# 1.2.3 tuples \n",
    "t = (1,3,5,7)\n",
    "len(t)\n",
    "t + (9,11)\n",
    "# packing tuple\n",
    "x = 12.34\n",
    "y = 23.45\n",
    "coordinate = (x,y)\n",
    "# unpacking tuples\n",
    "(x1,y1) = coordinate\n",
    "print(x1, y1)"
   ]
  },
  {
   "cell_type": "code",
   "execution_count": 26,
   "id": "5179a36f",
   "metadata": {},
   "outputs": [
    {
     "name": "stdout",
     "output_type": "stream",
     "text": [
      "<class 'int'>\n",
      "<class 'tuple'>\n",
      "<class 'tuple'>\n",
      "<class 'int'>\n",
      "<class 'tuple'>\n"
     ]
    }
   ],
   "source": [
    "# tuple with one object\n",
    "t1 = (1)\n",
    "print(type(t1)) # <class 'int'>\n",
    "t2 = (1,)\n",
    "print(type(t2)) # <<class 'tuple'>\n",
    "t3 = 2,\n",
    "print(type(t3)) # <<class 'tuple'>\n",
    "\n",
    "print(type(2,)) # <class 'int'>\n",
    "print(type((2,))) # <class 'tuple'>\n"
   ]
  },
  {
   "cell_type": "code",
   "execution_count": 32,
   "id": "c4caa03e",
   "metadata": {},
   "outputs": [
    {
     "name": "stdout",
     "output_type": "stream",
     "text": [
      "range(0, 5)\n",
      "[0, 1, 2, 3, 4]\n"
     ]
    },
    {
     "data": {
      "text/plain": [
       "[1, 3, 5, 7, 9, 11]"
      ]
     },
     "execution_count": 32,
     "metadata": {},
     "output_type": "execute_result"
    }
   ],
   "source": [
    "#1.2.4 ranges\n",
    "range(5) # 5 is stop value\n",
    "\n",
    "print(range(5)) # range(0, 5)\n",
    "\n",
    "print(list(range(5))) # [0, 1, 2, 3, 4]\n",
    "\n",
    "list(range(1,13,2))"
   ]
  },
  {
   "cell_type": "code",
   "execution_count": 35,
   "id": "4fe5908d",
   "metadata": {},
   "outputs": [
    {
     "name": "stdout",
     "output_type": "stream",
     "text": [
      "True\n",
      "pythonpythonpython\n"
     ]
    }
   ],
   "source": [
    "#1.2.5 strings, polymorphism\n",
    "s = 'python'\n",
    "len(s)\n",
    "s[-1]\n",
    "s[0:3]\n",
    "print('y' in s)\n",
    "# polymorphism\n",
    "1 + 2\n",
    "'hello'+'world'\n",
    "print( 3 * s )"
   ]
  },
  {
   "cell_type": "code",
   "execution_count": 42,
   "id": "148dfbfe",
   "metadata": {},
   "outputs": [
    {
     "name": "stdout",
     "output_type": "stream",
     "text": [
      "Help on method_descriptor:\n",
      "\n",
      "replace(self, old, new, count=-1, /)\n",
      "    Return a copy with all occurrences of substring old replaced by new.\n",
      "    \n",
      "      count\n",
      "        Maximum number of occurrences to replace.\n",
      "        -1 (the default value) means replace all occurrences.\n",
      "    \n",
      "    If the optional argument count is given, only the first count occurrences are\n",
      "    replaced.\n",
      "\n"
     ]
    }
   ],
   "source": [
    "# dir(str)\n",
    "\n",
    "str.replace? # not work here\n",
    "help(str.replace)"
   ]
  },
  {
   "cell_type": "code",
   "execution_count": 45,
   "id": "60dc528d",
   "metadata": {},
   "outputs": [
    {
     "data": {
      "text/plain": [
       "'tina Fey'"
      ]
     },
     "execution_count": 45,
     "metadata": {},
     "output_type": "execute_result"
    }
   ],
   "source": [
    "name ='Tina Fey'\n",
    "new_name = name.replace('T','t')\n",
    "new_name"
   ]
  },
  {
   "cell_type": "code",
   "execution_count": 48,
   "id": "aa27da8b",
   "metadata": {},
   "outputs": [
    {
     "data": {
      "text/plain": [
       "'TINA'"
      ]
     },
     "execution_count": 48,
     "metadata": {},
     "output_type": "execute_result"
    }
   ],
   "source": [
    "another_name = name.split(' ')\n",
    "another_name[0].upper()"
   ]
  },
  {
   "cell_type": "code",
   "execution_count": 49,
   "id": "151e1c2a",
   "metadata": {},
   "outputs": [
    {
     "data": {
      "text/plain": [
       "False"
      ]
     },
     "execution_count": 49,
     "metadata": {},
     "output_type": "execute_result"
    }
   ],
   "source": [
    "x = \"125,000\"\n",
    "x.isdigit()"
   ]
  },
  {
   "cell_type": "code",
   "execution_count": 53,
   "id": "c7b1cabf",
   "metadata": {},
   "outputs": [
    {
     "data": {
      "text/plain": [
       "'0123456789'"
      ]
     },
     "execution_count": 53,
     "metadata": {},
     "output_type": "execute_result"
    }
   ],
   "source": [
    "# str(range(10)) # 'range(0, 10)'\n",
    "# \"0\"+\"1\"+\"2\"+\"3\"+\"4\"+\"5\"+\"6\"+\"7\"+\"8\"+\"9\" # '0123456789'\n",
    "\n",
    "\"\".join([str(i) for i in range(10)]) # '0123456789'\n",
    "string.digits #(using the string library) #NameError: name 'string' is not defined\n"
   ]
  },
  {
   "cell_type": "code",
   "execution_count": 68,
   "id": "677699dc",
   "metadata": {},
   "outputs": [
    {
     "data": {
      "text/plain": [
       "{2, 4, 6, 7, 8, 9, 10}"
      ]
     },
     "execution_count": 68,
     "metadata": {},
     "output_type": "execute_result"
    }
   ],
   "source": [
    "# 1.2.6 sets(mutable) , frozenset (immutable)\n",
    "# unordered collections of distict hashable objects\n",
    "# Math: unions, intersetions, set differences\n",
    "\n",
    "ids = set()\n",
    "ids = set([1,2,4,6,7,8,9])\n",
    "len(ids)\n",
    "ids.add(10)\n",
    "ids.add(2) #nothing happend\n",
    "ids.pop()\n",
    "ids"
   ]
  },
  {
   "cell_type": "code",
   "execution_count": 72,
   "id": "6a6f9f61",
   "metadata": {},
   "outputs": [
    {
     "data": {
      "text/plain": [
       "{0, 2, 4, 6, 8}"
      ]
     },
     "execution_count": 72,
     "metadata": {},
     "output_type": "execute_result"
    }
   ],
   "source": [
    "ids = set(range(10))\n",
    "ids\n",
    "males = set([1,3,5,7,9])\n",
    "females = ids -males\n",
    "females"
   ]
  },
  {
   "cell_type": "code",
   "execution_count": 75,
   "id": "cf549b83",
   "metadata": {},
   "outputs": [
    {
     "data": {
      "text/plain": [
       "{0, 1, 2, 3, 4, 5, 6, 7, 8, 9}"
      ]
     },
     "execution_count": 75,
     "metadata": {},
     "output_type": "execute_result"
    }
   ],
   "source": [
    "everyone = males | females\n",
    "everyone"
   ]
  },
  {
   "cell_type": "code",
   "execution_count": 77,
   "id": "6be9e17b",
   "metadata": {},
   "outputs": [
    {
     "data": {
      "text/plain": [
       "{1, 2, 3}"
      ]
     },
     "execution_count": 77,
     "metadata": {},
     "output_type": "execute_result"
    }
   ],
   "source": [
    "everyone & set([1,2,3])"
   ]
  },
  {
   "cell_type": "code",
   "execution_count": 79,
   "id": "52dae0d2",
   "metadata": {},
   "outputs": [
    {
     "data": {
      "text/plain": [
       "{'a', 'b', 'd', 'e', 'h', 'i', 'l', 'm', 'n', 'r', 's', 't'}"
      ]
     },
     "execution_count": 79,
     "metadata": {},
     "output_type": "execute_result"
    }
   ],
   "source": [
    "word = 'anitdisestablishmentarianism'\n",
    "letters = set(word)\n",
    "len(letters)\n",
    "letters"
   ]
  },
  {
   "cell_type": "code",
   "execution_count": 94,
   "id": "1a901b77",
   "metadata": {},
   "outputs": [
    {
     "data": {
      "text/plain": [
       "False"
      ]
     },
     "execution_count": 94,
     "metadata": {},
     "output_type": "execute_result"
    }
   ],
   "source": [
    "x={1,2,3}\n",
    "y={2,3,4}\n",
    "y-x # {4}\n",
    "x&y # {2, 3}\n",
    "\n",
    "x.symmetric_difference(y) # {1, 4}\n",
    "y.symmetric_difference(x) # {1, 4}\n",
    "\n",
    "x.issubset(y)"
   ]
  },
  {
   "cell_type": "code",
   "execution_count": 102,
   "id": "e556e529",
   "metadata": {},
   "outputs": [
    {
     "data": {
      "text/plain": [
       "True"
      ]
     },
     "execution_count": 102,
     "metadata": {},
     "output_type": "execute_result"
    }
   ],
   "source": [
    "# 1.2.7 dictionaries : key is immutable; value is mutable\n",
    "# dict.keys(), dict.values(), and dict.items()\n",
    "age={'Tim':29,'Pam':30,'Sam':31}\n",
    "\n",
    "\n",
    "age['Tim'] = age['Tim'] + 1\n",
    "# view object\n",
    "name = age.keys()\n",
    "age.items()\n",
    "age['Tom']=50\n",
    "name\n",
    "# membership\n",
    "'Tom' in age"
   ]
  },
  {
   "cell_type": "code",
   "execution_count": 92,
   "id": "7d8cb00c",
   "metadata": {},
   "outputs": [
    {
     "data": {
      "text/plain": [
       "{1, 4}"
      ]
     },
     "execution_count": 92,
     "metadata": {},
     "output_type": "execute_result"
    }
   ],
   "source": [
    "# Which of the following data structures may be used as keys in a dict?\n",
    "# strings, lists, tuples\n",
    "# anwser is strings and tuples\n",
    "# as key immutable"
   ]
  },
  {
   "cell_type": "code",
   "execution_count": 105,
   "id": "217eb17b",
   "metadata": {},
   "outputs": [
    {
     "name": "stdout",
     "output_type": "stream",
     "text": [
      "2224255494512 2224255494512\n",
      "2224255494512 2224255494480\n"
     ]
    }
   ],
   "source": [
    "# 1.3.1 dynamic typing\n",
    "# static: c, c++ \n",
    "# dynamic typing: python\n",
    "# variable==>( reference )==>object, : variable canot reference another variable\n",
    "\n",
    "# dynamic typing works for mutable and immutable\n",
    "\n",
    "x = 3\n",
    "y = x\n",
    "print(id(x),id(y))\n",
    "y = y-1\n",
    "print(id(x),id(y))\n"
   ]
  },
  {
   "cell_type": "code",
   "execution_count": 108,
   "id": "98384099",
   "metadata": {},
   "outputs": [
    {
     "name": "stdout",
     "output_type": "stream",
     "text": [
      "2224366076864 2224366076864\n",
      "2224366076864 2224366076864\n",
      "2224366076864 2224366123904 2224366078976\n"
     ]
    }
   ],
   "source": [
    "l1 = [2,3,4]\n",
    "l2 = l1\n",
    "print(id(l1),id(l2))\n",
    "\n",
    "l1[0] = 24\n",
    "print(id(l1),id(l2))\n",
    "\n",
    "l3 = list(l1)\n",
    "l4 = l1[:]\n",
    "print(id(l1),id(l3),id(l4))\n"
   ]
  },
  {
   "cell_type": "code",
   "execution_count": 5,
   "id": "e251988b",
   "metadata": {},
   "outputs": [
    {
     "name": "stdout",
     "output_type": "stream",
     "text": [
      "False\n",
      "1924783052992 1924783058112 1924783057536\n",
      "[1, [2, 3]] [1, [2, 3]] [1, [2, 3]]\n"
     ]
    }
   ],
   "source": [
    "# shallow copy, deep copy\n",
    "# shallow copy: constructs a new compound object, then insert its references into it to the original object \n",
    "# deep copy: In contrast, a deep copy constructs a new compound object and then recursively inserts copies into it of the original objects.\n",
    "import copy\n",
    "x = [1,[2,3]]\n",
    "y = copy.copy(x) # shallow copy\n",
    "z = copy.deepcopy(x) #deepcopy\n",
    "print(y is z)\n",
    "print(id(x),id(y),id(z))\n",
    "print(x,y,z)\n"
   ]
  },
  {
   "cell_type": "code",
   "execution_count": 12,
   "id": "7b09b6b2",
   "metadata": {},
   "outputs": [
    {
     "name": "stdout",
     "output_type": "stream",
     "text": [
      "But this gets printed no matter what!\n"
     ]
    }
   ],
   "source": [
    "#1.3.3 statements\n",
    "# compound statments such as if statement\n",
    "# return, import, pass, \n",
    "\n",
    "if x > y:\n",
    "    difference = x - y\n",
    "    print(\"x is greater than y\")\n",
    "print(\"But this gets printed no matter what!\")\n",
    "\n",
    "'''\n",
    "if test:\n",
    "    [block of code]\n",
    "elif test:\n",
    "    [block of code]\n",
    "else:\n",
    "    [block of code]'''\n",
    "\n",
    "if x > y:\n",
    "    absval = x-y\n",
    "elif y>x:\n",
    "    absva = y-x\n",
    "else:\n",
    "    absval = 0\n",
    "\n",
    "# What does this print?\n",
    "if False:\n",
    "    print(\"False!\")\n",
    "elif True:\n",
    "    print(\"Now True!\")\n",
    "else:\n",
    "    print(\"Finally True!\")\n"
   ]
  },
  {
   "cell_type": "code",
   "execution_count": 25,
   "id": "53a6ac52",
   "metadata": {},
   "outputs": [
    {
     "name": "stdout",
     "output_type": "stream",
     "text": [
      "0 1 2 3 4 5 6 7 8 9 \n",
      "Jim Tom Tim Pam Sam \n",
      "Jim Tom Tim Pam Sam \n",
      "Tim 29 Pam 30 Sam 31 Jim 35 Tom 36 \n",
      "Tim 29 Pam 30 Sam 31 Jim 35 Tom 36 \n",
      "Jim 35 Pam 30 Sam 31 Tim 29 Tom 36 \n",
      "Tom 36 Tim 29 Sam 31 Pam 30 Jim 35 \n"
     ]
    }
   ],
   "source": [
    "#1.3.4 for and while loops\n",
    "# for loop is a sequence iteration that assigns items in sequence to target on at a time and runs the block of code for each item\n",
    "for x in range(10):\n",
    "    print(x, end=' ')\n",
    "print()\n",
    "\n",
    "names = ['Jim','Tom','Tim','Pam','Sam']\n",
    "for name in names:\n",
    "    print(name, end=' ')\n",
    "print()\n",
    "\n",
    "# from other language indexing, but not pythonic way\n",
    "for i in range(len(names)):\n",
    "    print(names[i], end=' ')\n",
    "print()\n",
    "\n",
    "age={'Tim':29,'Pam':30,'Sam':31,'Jim':35,'Tom':36}\n",
    "for name in age.keys():\n",
    "    print(name, age[name], end=' ')\n",
    "print()\n",
    "\n",
    "#shorthand way\n",
    "for name in age:\n",
    "    print(name, age[name], end=' ')\n",
    "print()\n",
    "\n",
    "#order of the name\n",
    "for name in sorted(age.keys()):\n",
    "    print(name, age[name], end=' ')\n",
    "print()\n",
    "\n",
    "#reverse order of the name\n",
    "for name in sorted(age.keys(),reverse=True):\n",
    "    print(name, age[name], end=' ')\n",
    "print()\n",
    "\n",
    "#while loop\n"
   ]
  },
  {
   "cell_type": "code",
   "execution_count": 29,
   "id": "c4b7f895",
   "metadata": {},
   "outputs": [
    {
     "name": "stdout",
     "output_type": "stream",
     "text": [
      "Hello, Brown bear!\n",
      "Hello, Polar bear!\n",
      "odd\n"
     ]
    }
   ],
   "source": [
    "bears = {\"Grizzly\":\"angry\", \"Brown\":\"friendly\", \"Polar\":\"friendly\"}\n",
    "for bear in bears:\n",
    "    if bears[bear]=='friendly':\n",
    "        print(\"Hello, \"+bear+\" bear!\")\n",
    "else:\n",
    "    print(\"odd\")"
   ]
  },
  {
   "cell_type": "code",
   "execution_count": 36,
   "id": "d345e86c",
   "metadata": {},
   "outputs": [
    {
     "name": "stdout",
     "output_type": "stream",
     "text": [
      "True\n"
     ]
    }
   ],
   "source": [
    "# prime number check\n",
    "n = 17\n",
    "is_prime = True\n",
    "for i in range(2,n):\n",
    "    if n%i == 0:\n",
    "        is_prime = False\n",
    "print(is_prime)"
   ]
  },
  {
   "cell_type": "code",
   "execution_count": 37,
   "id": "108c4710",
   "metadata": {},
   "outputs": [
    {
     "name": "stdout",
     "output_type": "stream",
     "text": [
      "7\n"
     ]
    }
   ],
   "source": [
    "n=100\n",
    "number_of_times = 0\n",
    "while n >= 1:\n",
    "    n //= 2\n",
    "    number_of_times += 1\n",
    "print(number_of_times)"
   ]
  },
  {
   "cell_type": "code",
   "execution_count": 45,
   "id": "38b11030",
   "metadata": {},
   "outputs": [
    {
     "name": "stdout",
     "output_type": "stream",
     "text": [
      "[0, 1, 4, 9, 16, 25, 36, 49, 64, 81]\n",
      "[0, 1, 4, 9, 16, 25, 36, 49, 64, 81]\n"
     ]
    }
   ],
   "source": [
    "#1.3.5 list comprehensions\n",
    "numbers=range(10)\n",
    "squares=[]\n",
    "for number in numbers:\n",
    "    square = number**2\n",
    "    squares.append(square)\n",
    "print(squares)\n",
    "\n",
    "# 1 fast, 2 elegant\n",
    "squares2=[number**2 for number in numbers]\n",
    "print(squares2)\n"
   ]
  },
  {
   "cell_type": "code",
   "execution_count": 49,
   "id": "6457e5a4",
   "metadata": {},
   "outputs": [
    {
     "data": {
      "text/plain": [
       "25"
      ]
     },
     "execution_count": 49,
     "metadata": {},
     "output_type": "execute_result"
    }
   ],
   "source": [
    "#How can you use a list comprehension, including if and for, to sum the odd numbers from 0 through 9?\n",
    "\n",
    "sum([i for i in range(10) if i%2!=0 ])"
   ]
  },
  {
   "cell_type": "code",
   "execution_count": 50,
   "id": "e6722710",
   "metadata": {},
   "outputs": [
    {
     "name": "stdout",
     "output_type": "stream",
     "text": [
      "['even', 'odd', 'even', 'odd', 'even', 'odd', 'even', 'odd', 'even', 'odd']\n"
     ]
    }
   ],
   "source": [
    "#[output if condition else output for l in list]\n",
    "nums = list(range(10))\n",
    "num_classes = ['even' if num%2 == 0 else 'odd' for num in nums]\n",
    "print(num_classes)"
   ]
  },
  {
   "cell_type": "code",
   "execution_count": 54,
   "id": "a529ee25",
   "metadata": {},
   "outputs": [
    {
     "name": "stdout",
     "output_type": "stream",
     "text": [
      "first line\n",
      "\n",
      "second line\n",
      "\n",
      "third line\n",
      "first line\n",
      "second line\n",
      "third line\n",
      "['first', 'line']\n",
      "['second', 'line']\n",
      "['third', 'line']\n"
     ]
    }
   ],
   "source": [
    "#1.3.6: Reading and Writing Files\n",
    "filename=\"input.txt\"\n",
    "for line in open(filename): \n",
    "    print(line)\n",
    "    \n",
    "filename=\"input.txt\"\n",
    "for line in open(filename): #rstrip() to remove '\\n'\n",
    "    print(line.rstrip())\n",
    "    \n",
    "filename=\"input.txt\"\n",
    "for line in open(filename): #rstrip() to remove '\\n'\n",
    "    print(line.rstrip().split(' ')) # return a list"
   ]
  },
  {
   "cell_type": "code",
   "execution_count": 55,
   "id": "e7e76e6d",
   "metadata": {},
   "outputs": [],
   "source": [
    "# writing\n",
    "f = open('output.txt', 'w')\n",
    "f.write('python\\n')\n",
    "f.close()"
   ]
  },
  {
   "cell_type": "code",
   "execution_count": 59,
   "id": "e6054746",
   "metadata": {},
   "outputs": [
    {
     "data": {
      "text/plain": [
       "(35, 5)"
      ]
     },
     "execution_count": 59,
     "metadata": {},
     "output_type": "execute_result"
    }
   ],
   "source": [
    "#1.3.7 functions, procedural decomposition\n",
    "# global statement\n",
    "# tuple for return multiple values\n",
    "def add_and_sub(a,b):\n",
    "    mysum=a+b\n",
    "    mydiff=a-b\n",
    "    return(mysum, mydiff)\n",
    "add_and_sub(20,15)"
   ]
  },
  {
   "cell_type": "code",
   "execution_count": 70,
   "id": "b4012671",
   "metadata": {},
   "outputs": [
    {
     "name": "stdout",
     "output_type": "stream",
     "text": [
      "5\n",
      "7\n"
     ]
    }
   ],
   "source": [
    "def add(a,b):\n",
    "    myadd=a+b\n",
    "    return myadd\n",
    "add\n",
    "newadd=add\n",
    "print(add(2,3))\n",
    "print(newadd(3,4))"
   ]
  },
  {
   "cell_type": "code",
   "execution_count": 72,
   "id": "528add9f",
   "metadata": {},
   "outputs": [
    {
     "data": {
      "text/plain": [
       "[10, 3, 5, 7, 9]"
      ]
     },
     "execution_count": 72,
     "metadata": {},
     "output_type": "execute_result"
    }
   ],
   "source": [
    "def modify(mylist):\n",
    "    mylist[0] *=10\n",
    "\n",
    "lst = [1,3,5,7,9]\n",
    "modify(lst)\n",
    "lst"
   ]
  },
  {
   "cell_type": "code",
   "execution_count": 76,
   "id": "89f6e662",
   "metadata": {},
   "outputs": [
    {
     "data": {
      "text/plain": [
       "True"
      ]
     },
     "execution_count": 76,
     "metadata": {},
     "output_type": "execute_result"
    }
   ],
   "source": [
    "def modify(mylist):\n",
    "    mylist[0] *= 10\n",
    "    return(mylist)\n",
    "L = [1, 3, 5, 7, 9]\n",
    "M = modify(L)\n",
    "M is L"
   ]
  },
  {
   "cell_type": "code",
   "execution_count": 77,
   "id": "bfd11878",
   "metadata": {},
   "outputs": [
    {
     "data": {
      "text/plain": [
       "[3, 4, 5]"
      ]
     },
     "execution_count": 77,
     "metadata": {},
     "output_type": "execute_result"
    }
   ],
   "source": [
    "#1.3.8: Writing Simple Functions\n",
    "def intersect(s1,s2):\n",
    "    res = []\n",
    "    for s in s1:\n",
    "        if s in s2:\n",
    "            res.append(s)\n",
    "    return res\n",
    "\n",
    "intersect([1,2,3,4,5],[3,4,5,6,7])\n"
   ]
  },
  {
   "cell_type": "code",
   "execution_count": 83,
   "id": "24745b8b",
   "metadata": {},
   "outputs": [
    {
     "data": {
      "text/plain": [
       "'77ncoco0ob'"
      ]
     },
     "execution_count": 83,
     "metadata": {},
     "output_type": "execute_result"
    }
   ],
   "source": [
    "# password function\n",
    "import random\n",
    "def password(length):\n",
    "    pw = str()\n",
    "    characters = \"abcdefghijklmnopqrstuvwxyz\"+\"0123456789\"\n",
    "    for i in range(length):\n",
    "        pw += random.choice(characters)\n",
    "    return pw\n",
    "\n",
    "password(10)"
   ]
  },
  {
   "cell_type": "code",
   "execution_count": 88,
   "id": "9ffc18a9",
   "metadata": {},
   "outputs": [],
   "source": [
    "def is_vowel(letter):\n",
    "    if letter in 'aeiouy':\n",
    "        return(True)\n",
    "    else:\n",
    "        return(False)\n",
    "#is_vowel(4) #TypeError: 'in <string>' requires string as left operand, not int\n"
   ]
  },
  {
   "cell_type": "code",
   "execution_count": 89,
   "id": "2922c43c",
   "metadata": {},
   "outputs": [
    {
     "data": {
      "text/plain": [
       "False"
      ]
     },
     "execution_count": 89,
     "metadata": {},
     "output_type": "execute_result"
    }
   ],
   "source": [
    "def is_vowel(letter):\n",
    "    if type(letter) == int:\n",
    "        letter = str(letter)\n",
    "    if letter in \"aeiouy\":\n",
    "        return(True)\n",
    "    else:\n",
    "        return(False)\n",
    "is_vowel(4)"
   ]
  },
  {
   "cell_type": "code",
   "execution_count": 95,
   "id": "c69cfde1",
   "metadata": {},
   "outputs": [
    {
     "data": {
      "text/plain": [
       "120"
      ]
     },
     "execution_count": 95,
     "metadata": {},
     "output_type": "execute_result"
    }
   ],
   "source": [
    "def factorial(n):\n",
    "    if n == 0:\n",
    "        return 1\n",
    "    else:\n",
    "        N = 1\n",
    "        for i in range(1, n+1):\n",
    "            N *= i\n",
    "        return(N)\n",
    "\n",
    "factorial(5)"
   ]
  },
  {
   "cell_type": "code",
   "execution_count": 106,
   "id": "22c0e952",
   "metadata": {},
   "outputs": [
    {
     "data": {
      "text/plain": [
       "0"
      ]
     },
     "execution_count": 106,
     "metadata": {},
     "output_type": "execute_result"
    }
   ],
   "source": [
    "#1.3.9: Common Mistakes and Errors\n",
    "\n",
    "#1. not reading and understanding error messages\n",
    "#2. forgetting that dictionaries are unordered\n",
    "#3. trying to do an operation not supported by the object\n",
    "lst=[1,2,3]\n",
    "#lst.add(8) #AttributeError: 'list' object has no attribute 'add'\n",
    "lst.append(4)\n",
    "\n",
    "#4. tryingto access an object in the wrong way\n",
    "d= {'1':'a','2':'b','3':'c'}\n",
    "d.keys() , d.values()\n",
    "# d[1] # KeyError: 1\n",
    "\n",
    "#5 trying to modify an immutable object\n",
    "# 'python'[0]='P' # TypeError: 'str' object does not support item assignment\n",
    "\n",
    "#6 trying to operate on objects of different type\n",
    "# 'the anwser is' + 8 #TypeError: can only concatenate str (not \"int\") to str\n",
    "\n",
    "#7 improper indentation\n",
    "def rsum(n):\n",
    "    rsum=0\n",
    "    for k in range(n):\n",
    "        rsum +=k\n",
    "        return rsum\n",
    "rsum(5) # return 0"
   ]
  },
  {
   "cell_type": "code",
   "execution_count": null,
   "id": "2ec66c5c",
   "metadata": {},
   "outputs": [],
   "source": []
  },
  {
   "cell_type": "code",
   "execution_count": 135,
   "id": "02a9a130",
   "metadata": {},
   "outputs": [
    {
     "name": "stdout",
     "output_type": "stream",
     "text": [
      "{'a': 4, 'b': 1, 'c': 1, 'd': 1, 'e': 8, 'f': 1, 'g': 1, 'h': 2, 'i': 5, 'j': 0, 'k': 1, 'l': 3, 'm': 1, 'n': 2, 'o': 1, 'p': 1, 'q': 1, 'r': 2, 's': 2, 't': 4, 'u': 3, 'v': 1, 'w': 1, 'x': 1, 'y': 1, 'z': 1, 'A': 0, 'B': 0, 'C': 0, 'D': 0, 'E': 0, 'F': 0, 'G': 0, 'H': 0, 'I': 0, 'J': 1, 'K': 0, 'L': 0, 'M': 0, 'N': 0, 'O': 0, 'P': 0, 'Q': 0, 'R': 0, 'S': 0, 'T': 0, 'U': 0, 'V': 0, 'W': 0, 'X': 0, 'Y': 0, 'Z': 0}\n"
     ]
    }
   ],
   "source": [
    "import string \n",
    "\n",
    "alphabet = string.ascii_letters\n",
    "count_letters = {}\n",
    "sentence = 'Jim quickly realized that the beautiful gowns are expensive'\n",
    "for a in alphabet:\n",
    "    v = 0\n",
    "    for s in sentence:\n",
    "        if s==a:\n",
    "            v += 1\n",
    "    count_letters[a]=v\n",
    "print(count_letters)"
   ]
  },
  {
   "cell_type": "code",
   "execution_count": 139,
   "id": "0d0d9c14",
   "metadata": {},
   "outputs": [],
   "source": [
    "import string \n",
    "    \n",
    "def counter(input_string):\n",
    "    alphabet = string.ascii_letters\n",
    "    count_letters = {}\n",
    "\n",
    "    for a in alphabet:\n",
    "        v = 0\n",
    "        for s in sentence:\n",
    "            if s==a:\n",
    "                v += 1\n",
    "        count_letters[a]=v\n",
    "    return(count_letters)\n",
    "\n",
    "c = counter(sentence)"
   ]
  },
  {
   "cell_type": "code",
   "execution_count": 140,
   "id": "22defd5a",
   "metadata": {},
   "outputs": [
    {
     "data": {
      "text/plain": [
       "'e'"
      ]
     },
     "execution_count": 140,
     "metadata": {},
     "output_type": "execute_result"
    }
   ],
   "source": [
    "a_dictionary = {\"a\": 1, \"b\": 2, \"c\": 3}\n",
    "\n",
    "max_key = max(c, key=c.get)\n",
    "\n",
    "max_key"
   ]
  },
  {
   "cell_type": "code",
   "execution_count": null,
   "id": "996d04b8",
   "metadata": {},
   "outputs": [],
   "source": []
  }
 ],
 "metadata": {
  "kernelspec": {
   "display_name": "Python 3 (ipykernel)",
   "language": "python",
   "name": "python3"
  },
  "language_info": {
   "codemirror_mode": {
    "name": "ipython",
    "version": 3
   },
   "file_extension": ".py",
   "mimetype": "text/x-python",
   "name": "python",
   "nbconvert_exporter": "python",
   "pygments_lexer": "ipython3",
   "version": "3.9.7"
  }
 },
 "nbformat": 4,
 "nbformat_minor": 5
}
