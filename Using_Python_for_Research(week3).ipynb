{
 "cells": [
  {
   "cell_type": "code",
   "execution_count": 1,
   "id": "e293ac59",
   "metadata": {},
   "outputs": [],
   "source": [
    "#In Week 3, you will:\n",
    "\n",
    "#Learn how to translate DNA\n",
    "#Learn how to process texts\n",
    "#Learn how to classify items using the k-nearest neighbors method"
   ]
  },
  {
   "cell_type": "code",
   "execution_count": 2,
   "id": "8be669d8",
   "metadata": {},
   "outputs": [
    {
     "data": {
      "text/plain": [
       "'\\n1. download a DNA sequence\\n2. translate the DNA sequence into amino acids\\n3. download amino acid sequence to check our solution\\n'"
      ]
     },
     "execution_count": 2,
     "metadata": {},
     "output_type": "execute_result"
    }
   ],
   "source": [
    "#3.1.1: Introduction to DNA Translation\n",
    "# Learn about the four DNA nucleotides\n",
    "# Learn about the central dogma of molecular biology\n",
    "# Adenin, Cytosine, Guanine, Thymine\n",
    "# DNA->RNA->Protein\n",
    "'''\n",
    "1. download a DNA sequence\n",
    "2. translate the DNA sequence into amino acids\n",
    "3. download amino acid sequence to check our solution\n",
    "'''\n",
    "# Lysine is an amino acid, not a nucleic acid.\n",
    "# While there are some additions/exceptions/variations to this, the basic flow of genetic information goes DNA to RNA to protein.\n"
   ]
  },
  {
   "cell_type": "code",
   "execution_count": 3,
   "id": "e991f8bf",
   "metadata": {},
   "outputs": [
    {
     "data": {
      "text/plain": [
       "'\\n/translation=\"MSTHDTSLKTTEEVAFQIILLCQFGVGTFANVFLFVYNFSPIST\\n                     GSKQRPRQVILRHMAVANALTLFLTIFPNNMMTFAPIIPQTDLKCKLEFFTRLVARST\\n                     NLCSTCVLSIHQFVTLVPVNSGKGILRASVTNMASYSCYSCWFFSVLNNIYIPIKVTG\\n                     PQLTDNNNNSKSKLFCSTSDFSVGIVFLRFAHDATFMSIMVWTSVSMVLLLHRHCQRM\\n                     QYIFTLNQDPRGQAETTATHTILMLVVTFVGFYLLSLICIIFYTYFIYSHHSLRHCND\\n                     ILVSGFPTISPLLLTFRDPKGPCSVFFNC\"\\n'"
      ]
     },
     "execution_count": 3,
     "metadata": {},
     "output_type": "execute_result"
    }
   ],
   "source": [
    "# 3.1.2: Downloading DNA Data\n",
    "# https://www.ncbi.nlm.nih.gov/\n",
    "# Nucleotie;    NM_207618.2; FASTA; copy and save as dna.txt\n",
    "'''\n",
    "GGTCAGAAAAAGCCCTCTCCATGTCTACTCACGATACATCCCTGAAAACCACTGAGGAAGTGGCTTTTCA\n",
    "GATCATCTTGCTTTGCCAGTTTGGGGTTGGGACTTTTGCCAATGTATTTCTCTTTGTCTATAATTTCTCT\n",
    "CCAATCTCGACTGGTTCTAAACAGAGGCCCAGACAAGTGATTTTAAGACACATGGCTGTGGCCAATGCCT\n",
    "TAACTCTCTTCCTCACTATATTTCCAAACAACATGATGACTTTTGCTCCAATTATTCCTCAAACTGACCT\n",
    "CAAATGTAAATTAGAATTCTTCACTCGCCTCGTGGCAAGAAGCACAAACTTGTGTTCAACTTGTGTTCTG\n",
    "AGTATCCATCAGTTTGTCACACTTGTTCCTGTTAATTCAGGTAAAGGAATACTCAGAGCAAGTGTCACAA\n",
    "ACATGGCAAGTTATTCTTGTTACAGTTGTTGGTTCTTCAGTGTCTTAAATAACATCTACATTCCAATTAA\n",
    "GGTCACTGGTCCACAGTTAACAGACAATAACAATAACTCTAAAAGCAAGTTGTTCTGTTCCACTTCTGAT\n",
    "TTCAGTGTAGGCATTGTCTTCTTGAGGTTTGCCCATGATGCCACATTCATGAGCATCATGGTCTGGACCA\n",
    "GTGTCTCCATGGTACTTCTCCTCCATAGACATTGTCAGAGAATGCAGTACATATTCACTCTCAATCAGGA\n",
    "CCCCAGGGGCCAAGCAGAGACCACAGCAACCCATACTATCCTGATGCTGGTAGTCACATTTGTTGGCTTT\n",
    "TATCTTCTAAGTCTTATTTGTATCATCTTTTACACCTATTTTATATATTCTCATCATTCCCTGAGGCATT\n",
    "GCAATGACATTTTGGTTTCGGGTTTCCCTACAATTTCTCCTTTACTGTTGACCTTCAGAGACCCTAAGGG\n",
    "TCCTTGTTCTGTGTTCTTCAACTGTTGAAAGCCAGAGTCACTAAAAATGCCAAACACAGAAGACAGCTTT\n",
    "GCTAATACCATTAAATACTTTATTCCATAAATATGTTTTTAAAAGCTTGTATGAACAAGGTATGGTGCTC\n",
    "ACTGCTATACTTATAAAAGAGTAAGGTTATAATCACTTGTTGATATGAAAAGATTTCTGGTTGGAATCTG\n",
    "ATTGAAACAGTGAGTTATTCACCACCCTCCATTCTCT\n",
    "\n",
    "'''\n",
    "# CDS; copy pop-up and copy paste save as protein.txt\n",
    "'''\n",
    "/translation=\"MSTHDTSLKTTEEVAFQIILLCQFGVGTFANVFLFVYNFSPIST\n",
    "                     GSKQRPRQVILRHMAVANALTLFLTIFPNNMMTFAPIIPQTDLKCKLEFFTRLVARST\n",
    "                     NLCSTCVLSIHQFVTLVPVNSGKGILRASVTNMASYSCYSCWFFSVLNNIYIPIKVTG\n",
    "                     PQLTDNNNNSKSKLFCSTSDFSVGIVFLRFAHDATFMSIMVWTSVSMVLLLHRHCQRM\n",
    "                     QYIFTLNQDPRGQAETTATHTILMLVVTFVGFYLLSLICIIFYTYFIYSHHSLRHCND\n",
    "                     ILVSGFPTISPLLLTFRDPKGPCSVFFNC\"\n",
    "'''"
   ]
  },
  {
   "cell_type": "code",
   "execution_count": 4,
   "id": "535b5cdc",
   "metadata": {},
   "outputs": [],
   "source": [
    "#Searching NCBI for NM_201917.1 will give you the gene sequence. You can look at the FASTA or the GenBank entry to view the sequence - the GenBank entry will give you additional information about the gene."
   ]
  },
  {
   "cell_type": "code",
   "execution_count": 5,
   "id": "d13f938a",
   "metadata": {},
   "outputs": [
    {
     "name": "stdout",
     "output_type": "stream",
     "text": [
      "GGTCAGAAAAAGCCCTCTCCATGTCTACTCACGATACATCCCTGAAAACCACTGAGGAAGTGGCTTTTCAGATCATCTTGCTTTGCCAGTTTGGGGTTGGGACTTTTGCCAATGTATTTCTCTTTGTCTATAATTTCTCTCCAATCTCGACTGGTTCTAAACAGAGGCCCAGACAAGTGATTTTAAGACACATGGCTGTGGCCAATGCCTTAACTCTCTTCCTCACTATATTTCCAAACAACATGATGACTTTTGCTCCAATTATTCCTCAAACTGACCTCAAATGTAAATTAGAATTCTTCACTCGCCTCGTGGCAAGAAGCACAAACTTGTGTTCAACTTGTGTTCTGAGTATCCATCAGTTTGTCACACTTGTTCCTGTTAATTCAGGTAAAGGAATACTCAGAGCAAGTGTCACAAACATGGCAAGTTATTCTTGTTACAGTTGTTGGTTCTTCAGTGTCTTAAATAACATCTACATTCCAATTAAGGTCACTGGTCCACAGTTAACAGACAATAACAATAACTCTAAAAGCAAGTTGTTCTGTTCCACTTCTGATTTCAGTGTAGGCATTGTCTTCTTGAGGTTTGCCCATGATGCCACATTCATGAGCATCATGGTCTGGACCAGTGTCTCCATGGTACTTCTCCTCCATAGACATTGTCAGAGAATGCAGTACATATTCACTCTCAATCAGGACCCCAGGGGCCAAGCAGAGACCACAGCAACCCATACTATCCTGATGCTGGTAGTCACATTTGTTGGCTTTTATCTTCTAAGTCTTATTTGTATCATCTTTTACACCTATTTTATATATTCTCATCATTCCCTGAGGCATTGCAATGACATTTTGGTTTCGGGTTTCCCTACAATTTCTCCTTTACTGTTGACCTTCAGAGACCCTAAGGGTCCTTGTTCTGTGTTCTTCAACTGTTGAAAGCCAGAGTCACTAAAAATGCCAAACACAGAAGACAGCTTTGCTAATACCATTAAATACTTTATTCCATAAATATGTTTTTAAAAGCTTGTATGAACAAGGTATGGTGCTCACTGCTATACTTATAAAAGAGTAAGGTTATAATCACTTGTTGATATGAAAAGATTTCTGGTTGGAATCTGATTGAAACAGTGAGTTATTCACCACCCTCCATTCTCT\n"
     ]
    }
   ],
   "source": [
    "# 3.1.3: Importing DNA Data Into Python\n",
    "\n",
    "inputfile ='dna.txt'\n",
    "f = open(inputfile, 'r')\n",
    "seq = f.read()\n",
    "seq = seq.replace('\\n','')\n",
    "seq = seq.replace('\\r','')\n",
    "print(seq)"
   ]
  },
  {
   "cell_type": "code",
   "execution_count": 6,
   "id": "0f670c76",
   "metadata": {},
   "outputs": [],
   "source": [
    "# For a string text, what does the string method text.replace(\"X\",\"Y\") do?\n",
    "\n",
    "# Because strings are immutable objects, string methods do not modify the existing string but rather create a new object with the appropriate modifications."
   ]
  },
  {
   "cell_type": "code",
   "execution_count": 7,
   "id": "47f18ae8",
   "metadata": {},
   "outputs": [
    {
     "name": "stdout",
     "output_type": "stream",
     "text": [
      "t GQKKPSPCLLTIHP_KPLRKWLFRSSCFASLGLGLLPMYFSLSIISLQSRLVLNRGPDK_F_DTWLWPMP_LSSSLYFQTT__LLLQLFLKLTSNVN_NSSLASWQEAQTCVQLVF_VSISLSHLFLLIQVKEYSEQVSQTWQVILVTVVGSSVS_ITSTFQLRSLVHS_QTITITLKASCSVPLLISV_ALSS_GLPMMPHS_ASWSGPVSPWYFSSIDIVRECSTYSLSIRTPGAKQRPQQPILS_CW_SHLLAFIF_VLFVSSFTPILYILIIP_GIAMTFWFRVSLQFLLYC_PSETLRVLVLCSSTVESQSH_KCQTQKTALLIPLNTLFHKYVFKSLYEQGMVLTAILIKE_GYNHLLI_KDFWLESD_NSELFTTLHSL\n"
     ]
    },
    {
     "data": {
      "text/plain": [
       "1157"
      ]
     },
     "execution_count": 7,
     "metadata": {},
     "output_type": "execute_result"
    }
   ],
   "source": [
    "#3.1.4: Translating the DNA Sequence\n",
    "\n",
    "\n",
    "def translate(seq):\n",
    "    \"\"\"Translate a string containing a nucleotide sequence into a string containing the corresponding sequence of amino acids . Nucleotides are translated in triplets using the table dictionary; each amino acid 4 is encoded with a string of length 1. \"\"\"\n",
    "    table = {\n",
    "    'ATA':'I', 'ATC':'I', 'ATT':'I', 'ATG':'M',\n",
    "    'ACA':'T', 'ACC':'T', 'ACG':'T', 'ACT':'T',\n",
    "    'AAC':'N', 'AAT':'N', 'AAA':'K', 'AAG':'K',\n",
    "    'AGC':'S', 'AGT':'S', 'AGA':'R', 'AGG':'R',\n",
    "    'CTA':'L', 'CTC':'L', 'CTG':'L', 'CTT':'L',\n",
    "    'CCA':'P', 'CCC':'P', 'CCG':'P', 'CCT':'P',\n",
    "    'CAC':'H', 'CAT':'H', 'CAA':'Q', 'CAG':'Q',\n",
    "    'CGA':'R', 'CGC':'R', 'CGG':'R', 'CGT':'R',\n",
    "    'GTA':'V', 'GTC':'V', 'GTG':'V', 'GTT':'V',\n",
    "    'GCA':'A', 'GCC':'A', 'GCG':'A', 'GCT':'A',\n",
    "    'GAC':'D', 'GAT':'D', 'GAA':'E', 'GAG':'E',\n",
    "    'GGA':'G', 'GGC':'G', 'GGG':'G', 'GGT':'G',\n",
    "    'TCA':'S', 'TCC':'S', 'TCG':'S', 'TCT':'S',\n",
    "    'TTC':'F', 'TTT':'F', 'TTA':'L', 'TTG':'L',\n",
    "    'TAC':'Y', 'TAT':'Y', 'TAA':'_', 'TAG':'_',\n",
    "    'TGC':'C', 'TGT':'C', 'TGA':'_', 'TGG':'W',\n",
    "}\n",
    "    protein = ''\n",
    "    if len(seq)%3 == 0:\n",
    "        for i in range(0, len(seq), 3):\n",
    "            codon = seq[i:i+3]\n",
    "            protein += table[codon]\n",
    "    return protein\n",
    "\n",
    "\n",
    "t=translate(seq+'T')\n",
    "print('t',t)\n",
    "len(seq)"
   ]
  },
  {
   "cell_type": "code",
   "execution_count": 8,
   "id": "73751feb",
   "metadata": {},
   "outputs": [
    {
     "data": {
      "text/plain": [
       "'CCTGAAAACC'"
      ]
     },
     "execution_count": 8,
     "metadata": {},
     "output_type": "execute_result"
    }
   ],
   "source": [
    "#Open a session of Python and follow the instructions in Video 3.1.2 to read in the NCBI DNA sequence with the accession number NM_207618.2 and store as seq.\n",
    "seq='GGTCAGAAAAAGCCCTCTCCATGTCTACTCACGATACATCCCTGAAAACCACTGAGGAAGTGGCTTTTCA\\\n",
    "GATCATCTTGCTTTGCCAGTTTGGGGTTGGGACTTTTGCCAATGTATTTCTCTTTGTCTATAATTTCTCT\\\n",
    "CCAATCTCGACTGGTTCTAAACAGAGGCCCAGACAAGTGATTTTAAGACACATGGCTGTGGCCAATGCCT\\\n",
    "TAACTCTCTTCCTCACTATATTTCCAAACAACATGATGACTTTTGCTCCAATTATTCCTCAAACTGACCT\\\n",
    "CAAATGTAAATTAGAATTCTTCACTCGCCTCGTGGCAAGAAGCACAAACTTGTGTTCAACTTGTGTTCTG\\\n",
    "AGTATCCATCAGTTTGTCACACTTGTTCCTGTTAATTCAGGTAAAGGAATACTCAGAGCAAGTGTCACAA\\\n",
    "ACATGGCAAGTTATTCTTGTTACAGTTGTTGGTTCTTCAGTGTCTTAAATAACATCTACATTCCAATTAA\\\n",
    "GGTCACTGGTCCACAGTTAACAGACAATAACAATAACTCTAAAAGCAAGTTGTTCTGTTCCACTTCTGAT\\\n",
    "TTCAGTGTAGGCATTGTCTTCTTGAGGTTTGCCCATGATGCCACATTCATGAGCATCATGGTCTGGACCA\\\n",
    "GTGTCTCCATGGTACTTCTCCTCCATAGACATTGTCAGAGAATGCAGTACATATTCACTCTCAATCAGGA\\\n",
    "CCCCAGGGGCCAAGCAGAGACCACAGCAACCCATACTATCCTGATGCTGGTAGTCACATTTGTTGGCTTT\\\n",
    "TATCTTCTAAGTCTTATTTGTATCATCTTTTACACCTATTTTATATATTCTCATCATTCCCTGAGGCATT\\\n",
    "GCAATGACATTTTGGTTTCGGGTTTCCCTACAATTTCTCCTTTACTGTTGACCTTCAGAGACCCTAAGGG\\\n",
    "TCCTTGTTCTGTGTTCTTCAACTGTTGAAAGCCAGAGTCACTAAAAATGCCAAACACAGAAGACAGCTTT\\\n",
    "GCTAATACCATTAAATACTTTATTCCATAAATATGTTTTTAAAAGCTTGTATGAACAAGGTATGGTGCTC\\\n",
    "ACTGCTATACTTATAAAAGAGTAAGGTTATAATCACTTGTTGATATGAAAAGATTTCTGGTTGGAATCTG\\\n",
    "ATTGAAACAGTGAGTTATTCACCACCCTCCATTCTCT'\n",
    "\n",
    "seq[40:50]"
   ]
  },
  {
   "cell_type": "code",
   "execution_count": 9,
   "id": "55d4e32e",
   "metadata": {},
   "outputs": [
    {
     "data": {
      "text/plain": [
       "True"
      ]
     },
     "execution_count": 9,
     "metadata": {},
     "output_type": "execute_result"
    }
   ],
   "source": [
    "# 3.1.5: Comparing Your Translation\n",
    "def read_seq(inputfile):\n",
    "    \"\"\"Reads and returns the input sequence with special character removed\"\"\"\n",
    "#     inputfile ='dna.txt'\n",
    "    with open(inputfile, 'r') as f:\n",
    "        seq = f.read()\n",
    "    seq = seq.replace('\\n','')\n",
    "    seq = seq.replace('\\r','')\n",
    "    return seq\n",
    "\n",
    "prt = read_seq(\"protein.txt\")\n",
    "dna = read_seq(\"dna.txt\")\n",
    "prt == translate(dna[20:935])\n",
    "prt == translate(dna[20:938])[:-1]"
   ]
  },
  {
   "cell_type": "code",
   "execution_count": 10,
   "id": "aa573007",
   "metadata": {},
   "outputs": [],
   "source": [
    "# 3.2.1: Introduction to Language Processing Project Gutenberg.org\n",
    "# book lengths, numbe of unique words, how attributes cluster by language/author"
   ]
  },
  {
   "cell_type": "code",
   "execution_count": 11,
   "id": "4aebe54c",
   "metadata": {},
   "outputs": [
    {
     "name": "stdout",
     "output_type": "stream",
     "text": [
      "{'this': 1, 'is': 1, 'a': 1, 'test': 1, 'text': 2, 'count': 1, 'the': 2, 'number': 1, 'of': 1, 'times': 1, 'each': 1, 'word': 2, 'occurs': 1, 'in': 1, '(str)': 1, 'return': 1, 'dictionay': 1, 'where': 1, 'keys': 1, 'are': 2, 'unique': 1, 'words': 1, 'and': 1, 'values': 1, 'counts': 1}\n"
     ]
    }
   ],
   "source": [
    "# CC: 3.2.1: Introduction to Language Processing\n",
    "# 3.2.2: Counting Words\n",
    "text = \"This is a test text. Count the number of times each word occurs in the text (str). Return dictionay where keys are unique words and values are word counts\"\n",
    "\n",
    "def count_words(text):\n",
    "    \"\"\"Count the number of times each word occurs in the text (str). Return dictionay where\n",
    "    keys are unique words and values are word counts. Skip punctuations\"\"\"\n",
    "    word_counts = {}\n",
    "    text = text.lower()\n",
    "    skips = ['.',',',';',':','\"',\"'\"]\n",
    "    for ch in skips:\n",
    "        text = text.replace(ch,'')\n",
    "    for word in text.split(\" \"):\n",
    "        #know word\n",
    "        if word in word_counts:\n",
    "            word_counts[word] += 1\n",
    "        #unkown word\n",
    "        else:\n",
    "            word_counts[word] = 1\n",
    "    return word_counts\n",
    "\n",
    "print(count_words(text))"
   ]
  },
  {
   "cell_type": "code",
   "execution_count": 12,
   "id": "b08fb33c",
   "metadata": {},
   "outputs": [
    {
     "name": "stdout",
     "output_type": "stream",
     "text": [
      "Counter({'text': 2, 'the': 2, 'word': 2, 'are': 2, 'this': 1, 'is': 1, 'a': 1, 'test': 1, 'count': 1, 'number': 1, 'of': 1, 'times': 1, 'each': 1, 'occurs': 1, 'in': 1, '(str)': 1, 'return': 1, 'dictionay': 1, 'where': 1, 'keys': 1, 'unique': 1, 'words': 1, 'and': 1, 'values': 1, 'counts': 1})\n"
     ]
    }
   ],
   "source": [
    "from collections import Counter\n",
    "\n",
    "def count_words_fast(text):\n",
    "    \"\"\"Count the number of times each word occurs in the text (str). Return dictionay where\n",
    "    keys are unique words and values are word counts. Skip punctuations\"\"\"\n",
    "    word_counts = {}\n",
    "    text = text.lower()\n",
    "    skips = ['.',',',';',':','\"',\"'\"]\n",
    "    for ch in skips:\n",
    "        text = text.replace(ch,'')\n",
    "    word_counts = Counter(text.split(\" \"))\n",
    "    return word_counts\n",
    "\n",
    "print(count_words_fast(text))"
   ]
  },
  {
   "cell_type": "code",
   "execution_count": 13,
   "id": "24eca084",
   "metadata": {},
   "outputs": [
    {
     "data": {
      "text/plain": [
       "True"
      ]
     },
     "execution_count": 13,
     "metadata": {},
     "output_type": "execute_result"
    }
   ],
   "source": [
    "count_words(text)==count_words_fast(text)"
   ]
  },
  {
   "cell_type": "code",
   "execution_count": 14,
   "id": "8f3c32b1",
   "metadata": {},
   "outputs": [
    {
     "data": {
      "text/plain": [
       "6"
      ]
     },
     "execution_count": 14,
     "metadata": {},
     "output_type": "execute_result"
    }
   ],
   "source": [
    "len(count_words(\"This comprehension check is to check for comprehension.\"))\n"
   ]
  },
  {
   "cell_type": "code",
   "execution_count": 15,
   "id": "f2b2fda0",
   "metadata": {},
   "outputs": [
    {
     "data": {
      "text/plain": [
       "False"
      ]
     },
     "execution_count": 15,
     "metadata": {},
     "output_type": "execute_result"
    }
   ],
   "source": [
    "count_words(text) is count_words_fast(text)\n",
    "# While the two provide the same results, they are different objects in memory."
   ]
  },
  {
   "cell_type": "code",
   "execution_count": 16,
   "id": "c56eaff6",
   "metadata": {},
   "outputs": [],
   "source": [
    "# 3.2.3: Reading in a Book\n",
    "def read_book(title_path):\n",
    "    \"\"\"Read a book and return it as string.\"\"\"\n",
    "    with open(title_path, 'r', encoding='utf8', errors='ignore') as current_file:\n",
    "        text = current_file.read()\n",
    "        text = text.replace('\\n','').replace('\\r','')\n",
    "    return text"
   ]
  },
  {
   "cell_type": "code",
   "execution_count": 17,
   "id": "ccae8d0b",
   "metadata": {},
   "outputs": [
    {
     "name": "stdout",
     "output_type": "stream",
     "text": [
      "What's in a name? That which we call a rose    By any other name would smell as sweet.    So Romeo would, were he not Romeo call'd,    Retain that dear perfection which he owes    Without that title. Romeo, doff thy name;    And for that name, which is no part of thee,    Take all myself.  Rom. I take thee at thy word.    Call me but love, and I'll be new baptiz'd;    Henceforth I never will be Romeo.  Jul. What man art thou that, thus bescreen'd in night,    So stumblest on my counsel?  Rom. By a name    I know not how to tell thee who I am.    My name, dear saint, is hateful to myself,    Because it is an enemy to thee.    Had I it written, I would tear the word.  Jul. My ears have yet not drunk a hundred words    Of that tongue's utterance, yet I know the sound.    Art thou not Romeo, and a Montague?  Rom. Neither, fair saint, if either thee dislike.  Jul. How cam'st thou hither, tell me, and wherefore?    The orchard walls are high and hard to climb,    And the place death, conside\n"
     ]
    }
   ],
   "source": [
    "text = read_book(\"Books_EngFr\\English\\shakespeare\\Romeo and Juliet.txt\")\n",
    "len(text)\n",
    "ind = text.find(\"What's in a name?\")\n",
    "sample_text = text[ind:ind+1000]\n",
    "print(sample_text)"
   ]
  },
  {
   "cell_type": "code",
   "execution_count": 18,
   "id": "010796d3",
   "metadata": {},
   "outputs": [],
   "source": [
    "# 3.2.4: Computing Word Frequency Statistics\n",
    "def word_stats(word_counts):\n",
    "    '''Return number of unique words and word frequencies'''\n",
    "    num_unique = len(word_counts)\n",
    "    counts = word_counts.values()\n",
    "    return(num_unique, counts)"
   ]
  },
  {
   "cell_type": "code",
   "execution_count": 19,
   "id": "6ad77fe1",
   "metadata": {},
   "outputs": [
    {
     "name": "stdout",
     "output_type": "stream",
     "text": [
      "5118 40776\n"
     ]
    }
   ],
   "source": [
    "text = read_book(\"Books_EngFr\\English\\shakespeare\\Romeo and Juliet.txt\")\n",
    "word_counts = count_words(text)\n",
    "num_unique, counts = word_stats(word_counts) \n",
    "print(num_unique, sum(counts))\n",
    "#counts"
   ]
  },
  {
   "cell_type": "code",
   "execution_count": 20,
   "id": "cf133995",
   "metadata": {},
   "outputs": [
    {
     "name": "stdout",
     "output_type": "stream",
     "text": [
      "7527 20311\n"
     ]
    }
   ],
   "source": [
    "text = read_book(\"Books_GerPort\\German\\shakespeare\\Romeo und Julia.txt\")\n",
    "word_counts = count_words(text)\n",
    "num_unique, counts = word_stats(word_counts) \n",
    "print(num_unique, sum(counts))"
   ]
  },
  {
   "cell_type": "code",
   "execution_count": 21,
   "id": "32b9d8bd",
   "metadata": {},
   "outputs": [],
   "source": [
    "# 3.2.5: Reading Multiple Files\n",
    "import os\n",
    "book_dir = \"./Books\"\n",
    "for language in os.listdir(book_dir):\n",
    "    for author in os.listdir(book_dir+'/'+language):\n",
    "        for title in os.listdir(book_dir+'/'+language+'/'+author):\n",
    "            inputfile = book_dir+'/'+language+'/'+author+'/'+title\n",
    "#             print(inputfile)\n",
    "            text = read_book(inputfile)\n",
    "            (num_unique, counts) = word_stats(count_words(text))\n",
    "#             print(num_unique)\n",
    "#             print(counts)"
   ]
  },
  {
   "cell_type": "code",
   "execution_count": 22,
   "id": "610f410c",
   "metadata": {},
   "outputs": [],
   "source": [
    "import pandas as pd\n",
    "table = pd.DataFrame(columns = ('name', 'age'))\n",
    "table.loc[1]='James',22  # row : loc\n",
    "table.loc[2]='Jess',32"
   ]
  },
  {
   "cell_type": "code",
   "execution_count": 23,
   "id": "1f1f39eb",
   "metadata": {},
   "outputs": [],
   "source": [
    "import os\n",
    "book_dir = \"./Books\"\n",
    "\n",
    "import pandas as pd\n",
    "stats = pd.DataFrame(columns = ('language','author','title','length','unique'))\n",
    "title_num = 1\n",
    "for language in os.listdir(book_dir):\n",
    "    for author in os.listdir(book_dir+'/'+language):\n",
    "        for title in os.listdir(book_dir+'/'+language+'/'+author):\n",
    "            inputfile = book_dir+'/'+language+'/'+author+'/'+title\n",
    "            text = read_book(inputfile)\n",
    "            (num_unique, counts) = word_stats(count_words(text))\n",
    "            stats.loc[title_num] = language,author.capitalize(),title.replace('.txt',''),sum(counts),num_unique\n",
    "            title_num +=1"
   ]
  },
  {
   "cell_type": "code",
   "execution_count": 24,
   "id": "ae4896a7",
   "metadata": {},
   "outputs": [
    {
     "data": {
      "text/html": [
       "<div>\n",
       "<style scoped>\n",
       "    .dataframe tbody tr th:only-of-type {\n",
       "        vertical-align: middle;\n",
       "    }\n",
       "\n",
       "    .dataframe tbody tr th {\n",
       "        vertical-align: top;\n",
       "    }\n",
       "\n",
       "    .dataframe thead th {\n",
       "        text-align: right;\n",
       "    }\n",
       "</style>\n",
       "<table border=\"1\" class=\"dataframe\">\n",
       "  <thead>\n",
       "    <tr style=\"text-align: right;\">\n",
       "      <th></th>\n",
       "      <th>language</th>\n",
       "      <th>author</th>\n",
       "      <th>title</th>\n",
       "      <th>length</th>\n",
       "      <th>unique</th>\n",
       "    </tr>\n",
       "  </thead>\n",
       "  <tbody>\n",
       "    <tr>\n",
       "      <th>98</th>\n",
       "      <td>Portuguese</td>\n",
       "      <td>Queir¢s</td>\n",
       "      <td>O crime do padre Amaro</td>\n",
       "      <td>128630</td>\n",
       "      <td>29300</td>\n",
       "    </tr>\n",
       "    <tr>\n",
       "      <th>99</th>\n",
       "      <td>Portuguese</td>\n",
       "      <td>Queir¢s</td>\n",
       "      <td>O Mandarim</td>\n",
       "      <td>21440</td>\n",
       "      <td>7836</td>\n",
       "    </tr>\n",
       "    <tr>\n",
       "      <th>100</th>\n",
       "      <td>Portuguese</td>\n",
       "      <td>Queir¢s</td>\n",
       "      <td>O Primo Bazilio</td>\n",
       "      <td>107303</td>\n",
       "      <td>27644</td>\n",
       "    </tr>\n",
       "    <tr>\n",
       "      <th>101</th>\n",
       "      <td>Portuguese</td>\n",
       "      <td>Queir¢s</td>\n",
       "      <td>Os Maias</td>\n",
       "      <td>195771</td>\n",
       "      <td>40665</td>\n",
       "    </tr>\n",
       "    <tr>\n",
       "      <th>102</th>\n",
       "      <td>Portuguese</td>\n",
       "      <td>Shakespeare</td>\n",
       "      <td>Hamlet</td>\n",
       "      <td>30567</td>\n",
       "      <td>9700</td>\n",
       "    </tr>\n",
       "  </tbody>\n",
       "</table>\n",
       "</div>"
      ],
      "text/plain": [
       "       language       author                   title  length  unique\n",
       "98   Portuguese      Queir¢s  O crime do padre Amaro  128630   29300\n",
       "99   Portuguese      Queir¢s              O Mandarim   21440    7836\n",
       "100  Portuguese      Queir¢s         O Primo Bazilio  107303   27644\n",
       "101  Portuguese      Queir¢s                Os Maias  195771   40665\n",
       "102  Portuguese  Shakespeare                  Hamlet   30567    9700"
      ]
     },
     "execution_count": 24,
     "metadata": {},
     "output_type": "execute_result"
    }
   ],
   "source": [
    "stats\n",
    "stats.head()\n",
    "stats.tail()"
   ]
  },
  {
   "cell_type": "code",
   "execution_count": 25,
   "id": "c42b48a3",
   "metadata": {},
   "outputs": [
    {
     "data": {
      "text/plain": [
       "[<matplotlib.lines.Line2D at 0x2a4c3a51d00>]"
      ]
     },
     "execution_count": 25,
     "metadata": {},
     "output_type": "execute_result"
    },
    {
     "data": {
      "image/png": "[encoded data removed]",
      "text/plain": [
       "<Figure size 432x288 with 1 Axes>"
      ]
     },
     "metadata": {
      "needs_background": "light"
     },
     "output_type": "display_data"
    }
   ],
   "source": [
    "# 3.2.6: Plotting Book Statistics\n",
    "import matplotlib.pyplot as plt\n",
    "plt.plot(stats.length, stats.unique, 'bo')\n",
    "plt.loglog(stats.length, stats.unique, 'bo')\n"
   ]
  },
  {
   "cell_type": "code",
   "execution_count": 26,
   "id": "6d0bd48f",
   "metadata": {},
   "outputs": [
    {
     "data": {
      "text/html": [
       "<div>\n",
       "<style scoped>\n",
       "    .dataframe tbody tr th:only-of-type {\n",
       "        vertical-align: middle;\n",
       "    }\n",
       "\n",
       "    .dataframe tbody tr th {\n",
       "        vertical-align: top;\n",
       "    }\n",
       "\n",
       "    .dataframe thead th {\n",
       "        text-align: right;\n",
       "    }\n",
       "</style>\n",
       "<table border=\"1\" class=\"dataframe\">\n",
       "  <thead>\n",
       "    <tr style=\"text-align: right;\">\n",
       "      <th></th>\n",
       "      <th>language</th>\n",
       "      <th>author</th>\n",
       "      <th>title</th>\n",
       "      <th>length</th>\n",
       "      <th>unique</th>\n",
       "    </tr>\n",
       "  </thead>\n",
       "  <tbody>\n",
       "    <tr>\n",
       "      <th>8</th>\n",
       "      <td>French</td>\n",
       "      <td>Chevalier</td>\n",
       "      <td>L'åle de sable</td>\n",
       "      <td>73801</td>\n",
       "      <td>18989</td>\n",
       "    </tr>\n",
       "    <tr>\n",
       "      <th>9</th>\n",
       "      <td>French</td>\n",
       "      <td>Chevalier</td>\n",
       "      <td>L'enfer et le paradis de l'autre monde</td>\n",
       "      <td>40827</td>\n",
       "      <td>10831</td>\n",
       "    </tr>\n",
       "    <tr>\n",
       "      <th>10</th>\n",
       "      <td>French</td>\n",
       "      <td>Chevalier</td>\n",
       "      <td>La capitaine</td>\n",
       "      <td>46306</td>\n",
       "      <td>13083</td>\n",
       "    </tr>\n",
       "    <tr>\n",
       "      <th>11</th>\n",
       "      <td>French</td>\n",
       "      <td>Chevalier</td>\n",
       "      <td>La fille des indiens rouges</td>\n",
       "      <td>66621</td>\n",
       "      <td>17875</td>\n",
       "    </tr>\n",
       "    <tr>\n",
       "      <th>12</th>\n",
       "      <td>French</td>\n",
       "      <td>Chevalier</td>\n",
       "      <td>La fille du pirate</td>\n",
       "      <td>52519</td>\n",
       "      <td>14649</td>\n",
       "    </tr>\n",
       "    <tr>\n",
       "      <th>13</th>\n",
       "      <td>French</td>\n",
       "      <td>Chevalier</td>\n",
       "      <td>Le chasseur noir</td>\n",
       "      <td>51341</td>\n",
       "      <td>12945</td>\n",
       "    </tr>\n",
       "    <tr>\n",
       "      <th>14</th>\n",
       "      <td>French</td>\n",
       "      <td>Chevalier</td>\n",
       "      <td>Les derniers Iroquois</td>\n",
       "      <td>55565</td>\n",
       "      <td>15583</td>\n",
       "    </tr>\n",
       "    <tr>\n",
       "      <th>15</th>\n",
       "      <td>French</td>\n",
       "      <td>De maupassant</td>\n",
       "      <td>Boule de Suif</td>\n",
       "      <td>35905</td>\n",
       "      <td>10725</td>\n",
       "    </tr>\n",
       "    <tr>\n",
       "      <th>16</th>\n",
       "      <td>French</td>\n",
       "      <td>De maupassant</td>\n",
       "      <td>Claire de Lune</td>\n",
       "      <td>25975</td>\n",
       "      <td>8076</td>\n",
       "    </tr>\n",
       "    <tr>\n",
       "      <th>17</th>\n",
       "      <td>French</td>\n",
       "      <td>De maupassant</td>\n",
       "      <td>Contes de la Becasse</td>\n",
       "      <td>34723</td>\n",
       "      <td>10210</td>\n",
       "    </tr>\n",
       "    <tr>\n",
       "      <th>18</th>\n",
       "      <td>French</td>\n",
       "      <td>De maupassant</td>\n",
       "      <td>L'inutile beautÇ</td>\n",
       "      <td>37840</td>\n",
       "      <td>10781</td>\n",
       "    </tr>\n",
       "    <tr>\n",
       "      <th>19</th>\n",
       "      <td>French</td>\n",
       "      <td>De maupassant</td>\n",
       "      <td>La Main Gauche</td>\n",
       "      <td>33481</td>\n",
       "      <td>9983</td>\n",
       "    </tr>\n",
       "    <tr>\n",
       "      <th>20</th>\n",
       "      <td>French</td>\n",
       "      <td>De maupassant</td>\n",
       "      <td>La Maison Tellier</td>\n",
       "      <td>43685</td>\n",
       "      <td>12305</td>\n",
       "    </tr>\n",
       "    <tr>\n",
       "      <th>21</th>\n",
       "      <td>French</td>\n",
       "      <td>De maupassant</td>\n",
       "      <td>La petite roque</td>\n",
       "      <td>40688</td>\n",
       "      <td>10890</td>\n",
       "    </tr>\n",
       "    <tr>\n",
       "      <th>22</th>\n",
       "      <td>French</td>\n",
       "      <td>De maupassant</td>\n",
       "      <td>Le Horla</td>\n",
       "      <td>41485</td>\n",
       "      <td>11091</td>\n",
       "    </tr>\n",
       "    <tr>\n",
       "      <th>23</th>\n",
       "      <td>French</td>\n",
       "      <td>De maupassant</td>\n",
       "      <td>Œuvres complètes de Guy de Maupassant</td>\n",
       "      <td>54772</td>\n",
       "      <td>15028</td>\n",
       "    </tr>\n",
       "    <tr>\n",
       "      <th>24</th>\n",
       "      <td>French</td>\n",
       "      <td>Diderot</td>\n",
       "      <td>Ceci n'est pas un conte</td>\n",
       "      <td>10938</td>\n",
       "      <td>3674</td>\n",
       "    </tr>\n",
       "    <tr>\n",
       "      <th>25</th>\n",
       "      <td>French</td>\n",
       "      <td>Diderot</td>\n",
       "      <td>Entretien d'un päre avec ses enfants</td>\n",
       "      <td>11125</td>\n",
       "      <td>3720</td>\n",
       "    </tr>\n",
       "    <tr>\n",
       "      <th>26</th>\n",
       "      <td>French</td>\n",
       "      <td>Diderot</td>\n",
       "      <td>L'oiseau blanc</td>\n",
       "      <td>21973</td>\n",
       "      <td>6337</td>\n",
       "    </tr>\n",
       "    <tr>\n",
       "      <th>27</th>\n",
       "      <td>French</td>\n",
       "      <td>Diderot</td>\n",
       "      <td>Les deux amis de Bourbonne</td>\n",
       "      <td>8510</td>\n",
       "      <td>2929</td>\n",
       "    </tr>\n",
       "    <tr>\n",
       "      <th>28</th>\n",
       "      <td>French</td>\n",
       "      <td>Diderot</td>\n",
       "      <td>Regrets sur ma vieille robe de chambre</td>\n",
       "      <td>4980</td>\n",
       "      <td>1876</td>\n",
       "    </tr>\n",
       "    <tr>\n",
       "      <th>29</th>\n",
       "      <td>French</td>\n",
       "      <td>Sand</td>\n",
       "      <td>cora</td>\n",
       "      <td>12370</td>\n",
       "      <td>4370</td>\n",
       "    </tr>\n",
       "    <tr>\n",
       "      <th>30</th>\n",
       "      <td>French</td>\n",
       "      <td>Sand</td>\n",
       "      <td>Jacques le fataliste et son maåtre</td>\n",
       "      <td>85756</td>\n",
       "      <td>18744</td>\n",
       "    </tr>\n",
       "    <tr>\n",
       "      <th>31</th>\n",
       "      <td>French</td>\n",
       "      <td>Sand</td>\n",
       "      <td>L' Orco</td>\n",
       "      <td>8748</td>\n",
       "      <td>3162</td>\n",
       "    </tr>\n",
       "    <tr>\n",
       "      <th>32</th>\n",
       "      <td>French</td>\n",
       "      <td>Sand</td>\n",
       "      <td>La Coupe; Lupo Liverani; Le Toast; Garnier; Le...</td>\n",
       "      <td>47831</td>\n",
       "      <td>12540</td>\n",
       "    </tr>\n",
       "    <tr>\n",
       "      <th>33</th>\n",
       "      <td>French</td>\n",
       "      <td>Sand</td>\n",
       "      <td>La Marquise</td>\n",
       "      <td>14716</td>\n",
       "      <td>4786</td>\n",
       "    </tr>\n",
       "    <tr>\n",
       "      <th>34</th>\n",
       "      <td>French</td>\n",
       "      <td>Sand</td>\n",
       "      <td>Le Piccinino</td>\n",
       "      <td>151405</td>\n",
       "      <td>27435</td>\n",
       "    </tr>\n",
       "    <tr>\n",
       "      <th>35</th>\n",
       "      <td>French</td>\n",
       "      <td>Sand</td>\n",
       "      <td>Le poâme de Myrza</td>\n",
       "      <td>12771</td>\n",
       "      <td>4348</td>\n",
       "    </tr>\n",
       "    <tr>\n",
       "      <th>36</th>\n",
       "      <td>French</td>\n",
       "      <td>Sand</td>\n",
       "      <td>Mattea</td>\n",
       "      <td>21089</td>\n",
       "      <td>6429</td>\n",
       "    </tr>\n",
       "    <tr>\n",
       "      <th>37</th>\n",
       "      <td>French</td>\n",
       "      <td>Sand</td>\n",
       "      <td>Metella</td>\n",
       "      <td>19600</td>\n",
       "      <td>5715</td>\n",
       "    </tr>\n",
       "    <tr>\n",
       "      <th>38</th>\n",
       "      <td>French</td>\n",
       "      <td>Sand</td>\n",
       "      <td>Oeuvres illustrÇes de George Sand</td>\n",
       "      <td>23210</td>\n",
       "      <td>7503</td>\n",
       "    </tr>\n",
       "    <tr>\n",
       "      <th>39</th>\n",
       "      <td>French</td>\n",
       "      <td>Sand</td>\n",
       "      <td>Pauline</td>\n",
       "      <td>27486</td>\n",
       "      <td>7901</td>\n",
       "    </tr>\n",
       "  </tbody>\n",
       "</table>\n",
       "</div>"
      ],
      "text/plain": [
       "   language         author                                              title  \\\n",
       "8    French      Chevalier                                    L'åle de sable   \n",
       "9    French      Chevalier             L'enfer et le paradis de l'autre monde   \n",
       "10   French      Chevalier                                       La capitaine   \n",
       "11   French      Chevalier                        La fille des indiens rouges   \n",
       "12   French      Chevalier                                 La fille du pirate   \n",
       "13   French      Chevalier                                   Le chasseur noir   \n",
       "14   French      Chevalier                              Les derniers Iroquois   \n",
       "15   French  De maupassant                                      Boule de Suif   \n",
       "16   French  De maupassant                                     Claire de Lune   \n",
       "17   French  De maupassant                               Contes de la Becasse   \n",
       "18   French  De maupassant                                  L'inutile beautÇ   \n",
       "19   French  De maupassant                                     La Main Gauche   \n",
       "20   French  De maupassant                                  La Maison Tellier   \n",
       "21   French  De maupassant                                    La petite roque   \n",
       "22   French  De maupassant                                           Le Horla   \n",
       "23   French  De maupassant             Œuvres complètes de Guy de Maupassant   \n",
       "24   French        Diderot                            Ceci n'est pas un conte   \n",
       "25   French        Diderot              Entretien d'un päre avec ses enfants   \n",
       "26   French        Diderot                                     L'oiseau blanc   \n",
       "27   French        Diderot                         Les deux amis de Bourbonne   \n",
       "28   French        Diderot             Regrets sur ma vieille robe de chambre   \n",
       "29   French           Sand                                               cora   \n",
       "30   French           Sand                Jacques le fataliste et son maåtre   \n",
       "31   French           Sand                                            L' Orco   \n",
       "32   French           Sand  La Coupe; Lupo Liverani; Le Toast; Garnier; Le...   \n",
       "33   French           Sand                                        La Marquise   \n",
       "34   French           Sand                                       Le Piccinino   \n",
       "35   French           Sand                                 Le poâme de Myrza   \n",
       "36   French           Sand                                             Mattea   \n",
       "37   French           Sand                                            Metella   \n",
       "38   French           Sand                 Oeuvres illustrÇes de George Sand   \n",
       "39   French           Sand                                            Pauline   \n",
       "\n",
       "    length  unique  \n",
       "8    73801   18989  \n",
       "9    40827   10831  \n",
       "10   46306   13083  \n",
       "11   66621   17875  \n",
       "12   52519   14649  \n",
       "13   51341   12945  \n",
       "14   55565   15583  \n",
       "15   35905   10725  \n",
       "16   25975    8076  \n",
       "17   34723   10210  \n",
       "18   37840   10781  \n",
       "19   33481    9983  \n",
       "20   43685   12305  \n",
       "21   40688   10890  \n",
       "22   41485   11091  \n",
       "23   54772   15028  \n",
       "24   10938    3674  \n",
       "25   11125    3720  \n",
       "26   21973    6337  \n",
       "27    8510    2929  \n",
       "28    4980    1876  \n",
       "29   12370    4370  \n",
       "30   85756   18744  \n",
       "31    8748    3162  \n",
       "32   47831   12540  \n",
       "33   14716    4786  \n",
       "34  151405   27435  \n",
       "35   12771    4348  \n",
       "36   21089    6429  \n",
       "37   19600    5715  \n",
       "38   23210    7503  \n",
       "39   27486    7901  "
      ]
     },
     "execution_count": 26,
     "metadata": {},
     "output_type": "execute_result"
    }
   ],
   "source": [
    "stats[stats.language=='French']"
   ]
  },
  {
   "cell_type": "code",
   "execution_count": 27,
   "id": "5c70a953",
   "metadata": {},
   "outputs": [
    {
     "data": {
      "image/png": "[encoded data removed]",
      "text/plain": [
       "<Figure size 720x720 with 1 Axes>"
      ]
     },
     "metadata": {
      "needs_background": "light"
     },
     "output_type": "display_data"
    }
   ],
   "source": [
    "plt.figure(figsize=(10,10))\n",
    "subset = stats[stats.language=='English']\n",
    "plt.loglog(subset.length,subset.unique,'o',label='English',color='crimson')\n",
    "subset = stats[stats.language=='French']\n",
    "plt.loglog(subset.length,subset.unique,'o',label='French',color='forestgreen')\n",
    "subset = stats[stats.language=='German']\n",
    "plt.loglog(subset.length,subset.unique,'o',label='German',color='orange')\n",
    "subset = stats[stats.language=='Portuguese']\n",
    "plt.loglog(subset.length,subset.unique,'o',label='Portuguese',color='blueviolet')\n",
    "\n",
    "plt.legend()\n",
    "plt.xlabel(\"Book length\")\n",
    "plt.ylabel(\"Number of unique words\")\n",
    "plt.savefig(\"lan_plot.pdf\")"
   ]
  },
  {
   "cell_type": "code",
   "execution_count": 28,
   "id": "182d9035",
   "metadata": {},
   "outputs": [
    {
     "data": {
      "text/html": [
       "<div>\n",
       "<style scoped>\n",
       "    .dataframe tbody tr th:only-of-type {\n",
       "        vertical-align: middle;\n",
       "    }\n",
       "\n",
       "    .dataframe tbody tr th {\n",
       "        vertical-align: top;\n",
       "    }\n",
       "\n",
       "    .dataframe thead th {\n",
       "        text-align: right;\n",
       "    }\n",
       "</style>\n",
       "<table border=\"1\" class=\"dataframe\">\n",
       "  <thead>\n",
       "    <tr style=\"text-align: right;\">\n",
       "      <th></th>\n",
       "      <th>language</th>\n",
       "      <th>author</th>\n",
       "      <th>title</th>\n",
       "      <th>length</th>\n",
       "      <th>unique</th>\n",
       "    </tr>\n",
       "  </thead>\n",
       "  <tbody>\n",
       "    <tr>\n",
       "      <th>8</th>\n",
       "      <td>French</td>\n",
       "      <td>Chevalier</td>\n",
       "      <td>L'åle de sable</td>\n",
       "      <td>73801</td>\n",
       "      <td>18989</td>\n",
       "    </tr>\n",
       "    <tr>\n",
       "      <th>9</th>\n",
       "      <td>French</td>\n",
       "      <td>Chevalier</td>\n",
       "      <td>L'enfer et le paradis de l'autre monde</td>\n",
       "      <td>40827</td>\n",
       "      <td>10831</td>\n",
       "    </tr>\n",
       "    <tr>\n",
       "      <th>10</th>\n",
       "      <td>French</td>\n",
       "      <td>Chevalier</td>\n",
       "      <td>La capitaine</td>\n",
       "      <td>46306</td>\n",
       "      <td>13083</td>\n",
       "    </tr>\n",
       "    <tr>\n",
       "      <th>11</th>\n",
       "      <td>French</td>\n",
       "      <td>Chevalier</td>\n",
       "      <td>La fille des indiens rouges</td>\n",
       "      <td>66621</td>\n",
       "      <td>17875</td>\n",
       "    </tr>\n",
       "    <tr>\n",
       "      <th>12</th>\n",
       "      <td>French</td>\n",
       "      <td>Chevalier</td>\n",
       "      <td>La fille du pirate</td>\n",
       "      <td>52519</td>\n",
       "      <td>14649</td>\n",
       "    </tr>\n",
       "    <tr>\n",
       "      <th>13</th>\n",
       "      <td>French</td>\n",
       "      <td>Chevalier</td>\n",
       "      <td>Le chasseur noir</td>\n",
       "      <td>51341</td>\n",
       "      <td>12945</td>\n",
       "    </tr>\n",
       "    <tr>\n",
       "      <th>14</th>\n",
       "      <td>French</td>\n",
       "      <td>Chevalier</td>\n",
       "      <td>Les derniers Iroquois</td>\n",
       "      <td>55565</td>\n",
       "      <td>15583</td>\n",
       "    </tr>\n",
       "    <tr>\n",
       "      <th>15</th>\n",
       "      <td>French</td>\n",
       "      <td>De maupassant</td>\n",
       "      <td>Boule de Suif</td>\n",
       "      <td>35905</td>\n",
       "      <td>10725</td>\n",
       "    </tr>\n",
       "    <tr>\n",
       "      <th>16</th>\n",
       "      <td>French</td>\n",
       "      <td>De maupassant</td>\n",
       "      <td>Claire de Lune</td>\n",
       "      <td>25975</td>\n",
       "      <td>8076</td>\n",
       "    </tr>\n",
       "    <tr>\n",
       "      <th>17</th>\n",
       "      <td>French</td>\n",
       "      <td>De maupassant</td>\n",
       "      <td>Contes de la Becasse</td>\n",
       "      <td>34723</td>\n",
       "      <td>10210</td>\n",
       "    </tr>\n",
       "    <tr>\n",
       "      <th>18</th>\n",
       "      <td>French</td>\n",
       "      <td>De maupassant</td>\n",
       "      <td>L'inutile beautÇ</td>\n",
       "      <td>37840</td>\n",
       "      <td>10781</td>\n",
       "    </tr>\n",
       "    <tr>\n",
       "      <th>19</th>\n",
       "      <td>French</td>\n",
       "      <td>De maupassant</td>\n",
       "      <td>La Main Gauche</td>\n",
       "      <td>33481</td>\n",
       "      <td>9983</td>\n",
       "    </tr>\n",
       "    <tr>\n",
       "      <th>20</th>\n",
       "      <td>French</td>\n",
       "      <td>De maupassant</td>\n",
       "      <td>La Maison Tellier</td>\n",
       "      <td>43685</td>\n",
       "      <td>12305</td>\n",
       "    </tr>\n",
       "    <tr>\n",
       "      <th>21</th>\n",
       "      <td>French</td>\n",
       "      <td>De maupassant</td>\n",
       "      <td>La petite roque</td>\n",
       "      <td>40688</td>\n",
       "      <td>10890</td>\n",
       "    </tr>\n",
       "    <tr>\n",
       "      <th>22</th>\n",
       "      <td>French</td>\n",
       "      <td>De maupassant</td>\n",
       "      <td>Le Horla</td>\n",
       "      <td>41485</td>\n",
       "      <td>11091</td>\n",
       "    </tr>\n",
       "    <tr>\n",
       "      <th>23</th>\n",
       "      <td>French</td>\n",
       "      <td>De maupassant</td>\n",
       "      <td>Œuvres complètes de Guy de Maupassant</td>\n",
       "      <td>54772</td>\n",
       "      <td>15028</td>\n",
       "    </tr>\n",
       "    <tr>\n",
       "      <th>24</th>\n",
       "      <td>French</td>\n",
       "      <td>Diderot</td>\n",
       "      <td>Ceci n'est pas un conte</td>\n",
       "      <td>10938</td>\n",
       "      <td>3674</td>\n",
       "    </tr>\n",
       "    <tr>\n",
       "      <th>25</th>\n",
       "      <td>French</td>\n",
       "      <td>Diderot</td>\n",
       "      <td>Entretien d'un päre avec ses enfants</td>\n",
       "      <td>11125</td>\n",
       "      <td>3720</td>\n",
       "    </tr>\n",
       "    <tr>\n",
       "      <th>26</th>\n",
       "      <td>French</td>\n",
       "      <td>Diderot</td>\n",
       "      <td>L'oiseau blanc</td>\n",
       "      <td>21973</td>\n",
       "      <td>6337</td>\n",
       "    </tr>\n",
       "    <tr>\n",
       "      <th>27</th>\n",
       "      <td>French</td>\n",
       "      <td>Diderot</td>\n",
       "      <td>Les deux amis de Bourbonne</td>\n",
       "      <td>8510</td>\n",
       "      <td>2929</td>\n",
       "    </tr>\n",
       "    <tr>\n",
       "      <th>28</th>\n",
       "      <td>French</td>\n",
       "      <td>Diderot</td>\n",
       "      <td>Regrets sur ma vieille robe de chambre</td>\n",
       "      <td>4980</td>\n",
       "      <td>1876</td>\n",
       "    </tr>\n",
       "    <tr>\n",
       "      <th>29</th>\n",
       "      <td>French</td>\n",
       "      <td>Sand</td>\n",
       "      <td>cora</td>\n",
       "      <td>12370</td>\n",
       "      <td>4370</td>\n",
       "    </tr>\n",
       "    <tr>\n",
       "      <th>30</th>\n",
       "      <td>French</td>\n",
       "      <td>Sand</td>\n",
       "      <td>Jacques le fataliste et son maåtre</td>\n",
       "      <td>85756</td>\n",
       "      <td>18744</td>\n",
       "    </tr>\n",
       "    <tr>\n",
       "      <th>31</th>\n",
       "      <td>French</td>\n",
       "      <td>Sand</td>\n",
       "      <td>L' Orco</td>\n",
       "      <td>8748</td>\n",
       "      <td>3162</td>\n",
       "    </tr>\n",
       "    <tr>\n",
       "      <th>32</th>\n",
       "      <td>French</td>\n",
       "      <td>Sand</td>\n",
       "      <td>La Coupe; Lupo Liverani; Le Toast; Garnier; Le...</td>\n",
       "      <td>47831</td>\n",
       "      <td>12540</td>\n",
       "    </tr>\n",
       "    <tr>\n",
       "      <th>33</th>\n",
       "      <td>French</td>\n",
       "      <td>Sand</td>\n",
       "      <td>La Marquise</td>\n",
       "      <td>14716</td>\n",
       "      <td>4786</td>\n",
       "    </tr>\n",
       "    <tr>\n",
       "      <th>34</th>\n",
       "      <td>French</td>\n",
       "      <td>Sand</td>\n",
       "      <td>Le Piccinino</td>\n",
       "      <td>151405</td>\n",
       "      <td>27435</td>\n",
       "    </tr>\n",
       "    <tr>\n",
       "      <th>35</th>\n",
       "      <td>French</td>\n",
       "      <td>Sand</td>\n",
       "      <td>Le poâme de Myrza</td>\n",
       "      <td>12771</td>\n",
       "      <td>4348</td>\n",
       "    </tr>\n",
       "    <tr>\n",
       "      <th>36</th>\n",
       "      <td>French</td>\n",
       "      <td>Sand</td>\n",
       "      <td>Mattea</td>\n",
       "      <td>21089</td>\n",
       "      <td>6429</td>\n",
       "    </tr>\n",
       "    <tr>\n",
       "      <th>37</th>\n",
       "      <td>French</td>\n",
       "      <td>Sand</td>\n",
       "      <td>Metella</td>\n",
       "      <td>19600</td>\n",
       "      <td>5715</td>\n",
       "    </tr>\n",
       "    <tr>\n",
       "      <th>38</th>\n",
       "      <td>French</td>\n",
       "      <td>Sand</td>\n",
       "      <td>Oeuvres illustrÇes de George Sand</td>\n",
       "      <td>23210</td>\n",
       "      <td>7503</td>\n",
       "    </tr>\n",
       "    <tr>\n",
       "      <th>39</th>\n",
       "      <td>French</td>\n",
       "      <td>Sand</td>\n",
       "      <td>Pauline</td>\n",
       "      <td>27486</td>\n",
       "      <td>7901</td>\n",
       "    </tr>\n",
       "  </tbody>\n",
       "</table>\n",
       "</div>"
      ],
      "text/plain": [
       "   language         author                                              title  \\\n",
       "8    French      Chevalier                                    L'åle de sable   \n",
       "9    French      Chevalier             L'enfer et le paradis de l'autre monde   \n",
       "10   French      Chevalier                                       La capitaine   \n",
       "11   French      Chevalier                        La fille des indiens rouges   \n",
       "12   French      Chevalier                                 La fille du pirate   \n",
       "13   French      Chevalier                                   Le chasseur noir   \n",
       "14   French      Chevalier                              Les derniers Iroquois   \n",
       "15   French  De maupassant                                      Boule de Suif   \n",
       "16   French  De maupassant                                     Claire de Lune   \n",
       "17   French  De maupassant                               Contes de la Becasse   \n",
       "18   French  De maupassant                                  L'inutile beautÇ   \n",
       "19   French  De maupassant                                     La Main Gauche   \n",
       "20   French  De maupassant                                  La Maison Tellier   \n",
       "21   French  De maupassant                                    La petite roque   \n",
       "22   French  De maupassant                                           Le Horla   \n",
       "23   French  De maupassant             Œuvres complètes de Guy de Maupassant   \n",
       "24   French        Diderot                            Ceci n'est pas un conte   \n",
       "25   French        Diderot              Entretien d'un päre avec ses enfants   \n",
       "26   French        Diderot                                     L'oiseau blanc   \n",
       "27   French        Diderot                         Les deux amis de Bourbonne   \n",
       "28   French        Diderot             Regrets sur ma vieille robe de chambre   \n",
       "29   French           Sand                                               cora   \n",
       "30   French           Sand                Jacques le fataliste et son maåtre   \n",
       "31   French           Sand                                            L' Orco   \n",
       "32   French           Sand  La Coupe; Lupo Liverani; Le Toast; Garnier; Le...   \n",
       "33   French           Sand                                        La Marquise   \n",
       "34   French           Sand                                       Le Piccinino   \n",
       "35   French           Sand                                 Le poâme de Myrza   \n",
       "36   French           Sand                                             Mattea   \n",
       "37   French           Sand                                            Metella   \n",
       "38   French           Sand                 Oeuvres illustrÇes de George Sand   \n",
       "39   French           Sand                                            Pauline   \n",
       "\n",
       "    length  unique  \n",
       "8    73801   18989  \n",
       "9    40827   10831  \n",
       "10   46306   13083  \n",
       "11   66621   17875  \n",
       "12   52519   14649  \n",
       "13   51341   12945  \n",
       "14   55565   15583  \n",
       "15   35905   10725  \n",
       "16   25975    8076  \n",
       "17   34723   10210  \n",
       "18   37840   10781  \n",
       "19   33481    9983  \n",
       "20   43685   12305  \n",
       "21   40688   10890  \n",
       "22   41485   11091  \n",
       "23   54772   15028  \n",
       "24   10938    3674  \n",
       "25   11125    3720  \n",
       "26   21973    6337  \n",
       "27    8510    2929  \n",
       "28    4980    1876  \n",
       "29   12370    4370  \n",
       "30   85756   18744  \n",
       "31    8748    3162  \n",
       "32   47831   12540  \n",
       "33   14716    4786  \n",
       "34  151405   27435  \n",
       "35   12771    4348  \n",
       "36   21089    6429  \n",
       "37   19600    5715  \n",
       "38   23210    7503  \n",
       "39   27486    7901  "
      ]
     },
     "execution_count": 28,
     "metadata": {},
     "output_type": "execute_result"
    }
   ],
   "source": [
    "# stats is a Pandas dataframe as defined in Video 3.2.6. How can you select only the rows where the language is French?\n",
    "stats[stats.language == \"French\"]"
   ]
  },
  {
   "cell_type": "code",
   "execution_count": 29,
   "id": "d77e8d0f",
   "metadata": {},
   "outputs": [
    {
     "data": {
      "text/plain": [
       "1       16103\n",
       "2       28551\n",
       "3       16874\n",
       "4       26590\n",
       "5       48315\n",
       "        ...  \n",
       "98     128630\n",
       "99      21440\n",
       "100    107303\n",
       "101    195771\n",
       "102     30567\n",
       "Name: length, Length: 102, dtype: int64"
      ]
     },
     "execution_count": 29,
     "metadata": {},
     "output_type": "execute_result"
    }
   ],
   "source": [
    "# stats is a Pandas dataframe as defined in Video 3.2.6. Which of the following options are valid ways to access the column \"length\" in this dataframe? (Select all that apply.)\n",
    "stats.length\n",
    "stats[\"length\"]"
   ]
  },
  {
   "cell_type": "code",
   "execution_count": 30,
   "id": "6cd9c943",
   "metadata": {},
   "outputs": [
    {
     "data": {
      "text/plain": [
       "4.242640687119285"
      ]
     },
     "execution_count": 30,
     "metadata": {},
     "output_type": "execute_result"
    }
   ],
   "source": [
    "# 3.3.1: Introduction to kNN Classification; k-Nearest Neighbors\n",
    "# inputs: presictors, independent variables, features, variables\n",
    "# output: response variables, dependent variables. \n",
    "\n",
    "# response is quantitative, like weight, height, we call regression problems \n",
    "# response is qualitative, yes/no, blue/green, we call classification problem \n",
    "\n",
    "# Q: How does the -Nearest Neighbors classifier classify observations?\n",
    "# A: According to the most common class among the nearest  neighbors\n",
    "\n",
    "# 3.3.2: Finding the Distance Between Two Points\n",
    "import numpy as np\n",
    "def distance(p1, p2):\n",
    "    '''Find the distance between two points p1, p2'''\n",
    "    return np.sqrt(np.sum(np.power(p2-p1, 2)))\n",
    "\n",
    "\n",
    "p1 = np.array([1,1])\n",
    "p2 = np.array([4,4])\n",
    "distance(p1, p2)\n"
   ]
  },
  {
   "cell_type": "code",
   "execution_count": 31,
   "id": "9bc16a0c",
   "metadata": {},
   "outputs": [],
   "source": [
    "# 3.3.3: Majority Vote\n",
    "import random\n",
    "def majority_vote(votes):\n",
    "    \"\"\"Return the most comme element in votes.\"\"\"\n",
    "    vote_counts = {}\n",
    "    for vote in votes:\n",
    "        #know vote\n",
    "        if vote in vote_counts:\n",
    "            vote_counts[vote] += 1\n",
    "        #unkown vote\n",
    "        else:\n",
    "            vote_counts[vote] = 1\n",
    "            \n",
    "    winners = []\n",
    "    max_count = max(vote_counts.values())\n",
    "    for vote, count in vote_counts.items():\n",
    "        if count == max_count:\n",
    "            winners.append(vote)\n",
    "            \n",
    "    return random.choice(winners) # random select one from multiple winners\n",
    "\n",
    "votes=[1,2,3,1,2,3,1,2,3,1,2,3,3]\n",
    "winner = majority_vote(votes)\n"
   ]
  },
  {
   "cell_type": "code",
   "execution_count": 32,
   "id": "80e2a98e",
   "metadata": {},
   "outputs": [
    {
     "data": {
      "text/plain": [
       "3"
      ]
     },
     "execution_count": 32,
     "metadata": {},
     "output_type": "execute_result"
    }
   ],
   "source": [
    "# As you may remember, the most commonly occurring element in a sequence\n",
    "# is called mode in statistics.\n",
    "import scipy.stats as ss\n",
    "def majority_vote_short(votes):\n",
    "    '''Return the most comme element in votes.\n",
    "    '''\n",
    "    mode, count = ss.mstats.mode(votes)\n",
    "    return mode\n",
    "votes=[1,2,3,1,2,3,1,2,3,1,2,3,3]\n",
    "winner = majority_vote(votes)\n",
    "winner"
   ]
  },
  {
   "cell_type": "raw",
   "id": "95a984d2",
   "metadata": {},
   "source": []
  },
  {
   "cell_type": "code",
   "execution_count": 34,
   "id": "8d93857d",
   "metadata": {},
   "outputs": [
    {
     "data": {
      "text/plain": [
       "[<matplotlib.lines.Line2D at 0x2a4ce91d9a0>]"
      ]
     },
     "execution_count": 34,
     "metadata": {},
     "output_type": "execute_result"
    },
    {
     "data": {
      "image/png": "[encoded data removed]",
      "text/plain": [
       "<Figure size 432x288 with 1 Axes>"
      ]
     },
     "metadata": {
      "needs_background": "light"
     },
     "output_type": "display_data"
    }
   ],
   "source": [
    "# 3.3.4: Finding Nearest Neighbors\n",
    "points = np.array([[1,1],[1,2], [1,3],[2,1], [2,2], [2,3], [3,1], [3,2], [3,3]])\n",
    "p = np.array([2.5,2])\n",
    "\n",
    "distances = np.zeros(points.shape[0])\n",
    "for i in range(len(distances)):\n",
    "    distances[i] = distance(p, points[i])\n",
    "    \n",
    "    \n",
    "\n",
    "\n",
    "import matplotlib.pyplot as plt\n",
    "#For the x-coordinates, we would like to plot all of the rows in column 0,\n",
    "#and the y-coordinates correspond to all of the rows in column 1.\n",
    "plt.plot(points[:,0], points[:,1], 'ro')\n",
    "plt.plot(p[0], p[1], 'bo')\n",
    "# plt.axis([0.5,3.5,0.5,3.5])"
   ]
  },
  {
   "cell_type": "code",
   "execution_count": 35,
   "id": "4e174a7a",
   "metadata": {},
   "outputs": [],
   "source": [
    "def find_nearest_neighbors(p, points, k=5):\n",
    "    '''Find the k nearest neighbours of point p and return their indices.'''\n",
    "    distances = np.zeros(points.shape[0])\n",
    "    for i in range(len(distances)):\n",
    "        distances[i] = distance(p, points[i])\n",
    "    ind = np.argsort(distances)\n",
    "    return ind[:k]"
   ]
  },
  {
   "cell_type": "code",
   "execution_count": 36,
   "id": "04e4777e",
   "metadata": {},
   "outputs": [
    {
     "name": "stdout",
     "output_type": "stream",
     "text": [
      "[4 7]\n",
      "[[2 2]\n",
      " [3 2]]\n"
     ]
    }
   ],
   "source": [
    "ind = find_nearest_neighbors(p, points, 2)\n",
    "print(ind)\n",
    "\n",
    "print(points[ind])"
   ]
  },
  {
   "cell_type": "code",
   "execution_count": 37,
   "id": "c0a776ab",
   "metadata": {},
   "outputs": [],
   "source": [
    "def knn_predict(p, points, outcomes, k=5):\n",
    "    ind = find_nearest_neighbors(p, points, k)\n",
    "    return majority_vote(outcomes[ind])\n",
    "\n",
    "outcomes = np.array([0,0,0,0,1,1,1,1,1])"
   ]
  },
  {
   "cell_type": "code",
   "execution_count": 38,
   "id": "6cf787d0",
   "metadata": {},
   "outputs": [
    {
     "data": {
      "text/plain": [
       "0"
      ]
     },
     "execution_count": 38,
     "metadata": {},
     "output_type": "execute_result"
    }
   ],
   "source": [
    " knn_predict(np.array([2.5,2.7]), points, outcomes, k=5)\n",
    "\n",
    " knn_predict(np.array([1.0,2.7]), points, outcomes, k=5)"
   ]
  },
  {
   "cell_type": "code",
   "execution_count": 45,
   "id": "964d70c1",
   "metadata": {},
   "outputs": [
    {
     "data": {
      "text/plain": [
       "array([[-0.18299087, -0.62170827],\n",
       "       [ 1.75999164,  1.6653112 ],\n",
       "       [ 0.19612086, -0.74464897],\n",
       "       [-0.84028101, -0.3345311 ],\n",
       "       [ 1.48171415,  0.00215438]])"
      ]
     },
     "execution_count": 45,
     "metadata": {},
     "output_type": "execute_result"
    }
   ],
   "source": [
    "#3.3.5: Generating Synthetic Data\n",
    "import scipy.stats as ss\n",
    "\n",
    "ss.norm(0,1).rvs((5,2))"
   ]
  },
  {
   "cell_type": "code",
   "execution_count": 46,
   "id": "a6b3cd23",
   "metadata": {},
   "outputs": [
    {
     "data": {
      "text/plain": [
       "array([[1.77632591, 2.86672183],\n",
       "       [2.02225147, 1.70791155],\n",
       "       [0.97608612, 0.58731808],\n",
       "       [2.69923566, 2.10931744],\n",
       "       [2.33182459, 0.9116566 ]])"
      ]
     },
     "execution_count": 46,
     "metadata": {},
     "output_type": "execute_result"
    }
   ],
   "source": [
    "ss.norm(1,1).rvs((5,2))"
   ]
  },
  {
   "cell_type": "code",
   "execution_count": 57,
   "id": "33045c99",
   "metadata": {},
   "outputs": [
    {
     "data": {
      "image/png": "[encoded data removed]",
      "text/plain": [
       "<Figure size 432x288 with 1 Axes>"
      ]
     },
     "metadata": {
      "needs_background": "light"
     },
     "output_type": "display_data"
    }
   ],
   "source": [
    "def generate_synth_data(n=50):\n",
    "    '''Create two sets of points from bivariate normal distributions.'''\n",
    "    points = np.concatenate( (ss.norm(0,1).rvs((n,2)), ss.norm(1,1).rvs((n,2))), axis=0)\n",
    "    outcomes = np.concatenate( (np.repeat(0,n), np.repeat(1,n)) )\n",
    "    return points, outcomes\n",
    "\n",
    "n = 20\n",
    "points, outcomes = generate_synth_data(n)\n",
    "\n",
    "plt.figure()\n",
    "plt.plot(points[:n,0], points[:n,1], 'ro')\n",
    "plt.plot(points[n:,0], points[n:,1], 'bo')\n",
    "plt.savefig(\"bivardata.pdf\")"
   ]
  },
  {
   "cell_type": "code",
   "execution_count": 55,
   "id": "d47c0a5c",
   "metadata": {},
   "outputs": [
    {
     "data": {
      "text/plain": [
       "(array([[-1.60305505,  1.13147775],\n",
       "        [ 0.82083706,  0.24828545],\n",
       "        [-0.898415  , -2.77286589],\n",
       "        [-0.27481226, -0.57444075],\n",
       "        [ 0.39097711, -1.07234589],\n",
       "        [-1.81393266,  1.4026359 ],\n",
       "        [ 0.38938733,  2.78298553],\n",
       "        [-0.04393139,  0.95928016],\n",
       "        [-0.0902989 , -0.01696767],\n",
       "        [ 0.99929027,  0.20306013],\n",
       "        [-0.30825945,  0.85512006],\n",
       "        [-0.08615216,  2.14611021],\n",
       "        [ 0.31714828, -1.70663543],\n",
       "        [ 2.18969219,  0.6066333 ],\n",
       "        [ 0.09688058,  0.66719522],\n",
       "        [ 0.04695754,  0.51756185],\n",
       "        [-0.70006688,  0.04243199],\n",
       "        [ 0.35495149, -0.11420826],\n",
       "        [ 0.24880151, -0.13406085],\n",
       "        [-0.3070422 , -0.19115717],\n",
       "        [-0.24446691, -0.5793329 ],\n",
       "        [ 0.74137644,  1.35717181],\n",
       "        [ 0.07871871, -0.96145275],\n",
       "        [ 0.90064562,  4.1738996 ],\n",
       "        [ 1.47318548,  1.44253985],\n",
       "        [-1.25289304,  1.906863  ],\n",
       "        [ 0.90234369,  2.9597478 ],\n",
       "        [ 2.6832455 ,  1.80514749],\n",
       "        [ 1.22475262,  0.73246106],\n",
       "        [ 1.12375383,  1.73025093],\n",
       "        [ 0.57695699,  0.07347389],\n",
       "        [ 0.76199408,  0.90526317],\n",
       "        [ 0.20532301,  0.89836518],\n",
       "        [ 1.22259174, -0.65072121],\n",
       "        [ 0.47857263,  0.17685852],\n",
       "        [ 0.52073824,  0.94895478],\n",
       "        [ 0.3009656 ,  0.37104385],\n",
       "        [-0.49774843, -0.80144384],\n",
       "        [ 0.67271932,  1.75793787],\n",
       "        [ 1.77308964,  0.37548869]]),\n",
       " array([0, 0, 0, 0, 0, 0, 0, 0, 0, 0, 0, 0, 0, 0, 0, 0, 0, 0, 0, 0, 1, 1,\n",
       "        1, 1, 1, 1, 1, 1, 1, 1, 1, 1, 1, 1, 1, 1, 1, 1, 1, 1]))"
      ]
     },
     "execution_count": 55,
     "metadata": {},
     "output_type": "execute_result"
    }
   ],
   "source": [
    "points, outcomes "
   ]
  },
  {
   "cell_type": "code",
   "execution_count": null,
   "id": "61cfd962",
   "metadata": {},
   "outputs": [],
   "source": [
    "# What does np.concatenate do?\n",
    "# Takes in a tuple of np.arrays and joins them lengthwise along the specified axis\n",
    "\n",
    "# What is the main benefit of generating synthetic data?\n",
    "# You know exactly how the data were generated so you know what to expect when testing code.\n"
   ]
  },
  {
   "cell_type": "code",
   "execution_count": 81,
   "id": "30a4b574",
   "metadata": {},
   "outputs": [],
   "source": [
    "# 3.3.6: Making a Prediction Grid - meshgrid\n",
    "def make_prediction_grid(predictors, outcomes, limits, h, k):\n",
    "    '''Classify each point on the predition grid.'''\n",
    "    (x_min,x_max,y_min,y_max) = limits\n",
    "    xs = np.arange(x_min,x_max, h)\n",
    "    ys = np.arange(y_min,y_max, h)\n",
    "    xx, yy = np.meshgrid(xs,ys)\n",
    "    \n",
    "    prediction_grid = np.zeros(xx.shape, dtype = int)\n",
    "    for i,x in enumerate(xs):\n",
    "        for j,y in enumerate(ys):\n",
    "            p = np.array([x,y])\n",
    "            prediction_grid[j, i] = knn_predict(p, predictors, outcomes, k)\n",
    "            \n",
    "    return (xx,yy, prediction_grid)"
   ]
  },
  {
   "cell_type": "code",
   "execution_count": 65,
   "id": "a8885940",
   "metadata": {},
   "outputs": [
    {
     "data": {
      "text/plain": [
       "[(0, 'spring'), (1, 'summer'), (2, 'fall'), (3, 'winter')]"
      ]
     },
     "execution_count": 65,
     "metadata": {},
     "output_type": "execute_result"
    }
   ],
   "source": [
    "season = ['spring','summer','fall','winter']\n",
    "list(enumerate(season))"
   ]
  },
  {
   "cell_type": "code",
   "execution_count": 67,
   "id": "87e49794",
   "metadata": {},
   "outputs": [
    {
     "name": "stdout",
     "output_type": "stream",
     "text": [
      "0 spring\n",
      "1 summer\n",
      "2 fall\n",
      "3 winter\n"
     ]
    }
   ],
   "source": [
    "for i, season in enumerate(season):\n",
    "    print(i, season)"
   ]
  },
  {
   "cell_type": "code",
   "execution_count": 69,
   "id": "67c2b369",
   "metadata": {},
   "outputs": [],
   "source": [
    "# What does np.arange do?\n",
    "# Creates regularly spaced values between the first and second argument, with spacing given in the third argument\n",
    "\n",
    "# What does enumerate do?\n",
    "# Takes an iterable and returns a new iterable with tuples as elements, where the first index of each tuple is the index of the tuple in the iterable\n"
   ]
  },
  {
   "cell_type": "code",
   "execution_count": 84,
   "id": "2bc0dbd3",
   "metadata": {},
   "outputs": [],
   "source": [
    "# 3.3.7: Plotting the Prediction Grid\n",
    "\n",
    "def plot_prediction_grid (xx, yy, prediction_grid, filename):\n",
    "    \"\"\" Plot KNN predictions for every point on the grid.\"\"\"\n",
    "    from matplotlib.colors import ListedColormap\n",
    "    background_colormap = ListedColormap ([\"hotpink\",\"lightskyblue\", \"yellowgreen\"])\n",
    "    observation_colormap = ListedColormap ([\"red\",\"blue\",\"green\"])\n",
    "    plt.figure(figsize =(10,10))\n",
    "    plt.pcolormesh(xx, yy, prediction_grid, cmap = background_colormap, alpha = 0.5)\n",
    "    plt.scatter(predictors[:,0], predictors [:,1], c = outcomes, cmap = observation_colormap, s = 50)\n",
    "    plt.xlabel('Variable 1'); plt.ylabel('Variable 2')\n",
    "    plt.xticks(()); plt.yticks(())\n",
    "    plt.xlim (np.min(xx), np.max(xx))\n",
    "    plt.ylim (np.min(yy), np.max(yy))\n",
    "    plt.savefig(filename)"
   ]
  },
  {
   "cell_type": "code",
   "execution_count": 85,
   "id": "c486ac6c",
   "metadata": {},
   "outputs": [],
   "source": [
    "predictors, outcomes = generate_synth_data()"
   ]
  },
  {
   "cell_type": "code",
   "execution_count": 87,
   "id": "7dadcec7",
   "metadata": {},
   "outputs": [
    {
     "data": {
      "image/png": "[encoded data removed]",
      "text/plain": [
       "<Figure size 720x720 with 1 Axes>"
      ]
     },
     "metadata": {},
     "output_type": "display_data"
    }
   ],
   "source": [
    "k=50; filename='knn_synth_50.pdf'; limits=(-3,4,-3,4); h=0.1 # h is step\n",
    "xx, yy, prediction_grid = make_prediction_grid(predictors, outcomes, limits, h, k)\n",
    "plot_prediction_grid (xx, yy, prediction_grid, filename)"
   ]
  },
  {
   "cell_type": "code",
   "execution_count": 102,
   "id": "5a4b6045",
   "metadata": {},
   "outputs": [
    {
     "data": {
      "image/png": "[encoded data removed]",
      "text/plain": [
       "<Figure size 432x288 with 1 Axes>"
      ]
     },
     "metadata": {
      "needs_background": "light"
     },
     "output_type": "display_data"
    }
   ],
   "source": [
    "# 3.3.8: Applying the kNN Method = scikitlearn\n",
    "\n",
    "from sklearn import datasets\n",
    "\n",
    "iris = datasets.load_iris()\n",
    "iris['data']\n",
    "\n",
    "predictors = iris.data[:, 0:2] # all the rows and first two columns\n",
    "outcomes = iris.target\n",
    "plt.plot(predictors[outcomes==0][:,0], predictors[outcomes==0][:,1], 'ro')\n",
    "plt.plot(predictors[outcomes==1][:,0], predictors[outcomes==1][:,1], 'go')\n",
    "plt.plot(predictors[outcomes==2][:,0], predictors[outcomes==2][:,1], 'bo')\n",
    "plt.savefig('iris.pdf')"
   ]
  },
  {
   "cell_type": "code",
   "execution_count": 117,
   "id": "1593c106",
   "metadata": {},
   "outputs": [
    {
     "data": {
      "text/plain": [
       "{'data': array([[5.1, 3.5, 1.4, 0.2],\n",
       "        [4.9, 3. , 1.4, 0.2],\n",
       "        [4.7, 3.2, 1.3, 0.2],\n",
       "        [4.6, 3.1, 1.5, 0.2],\n",
       "        [5. , 3.6, 1.4, 0.2],\n",
       "        [5.4, 3.9, 1.7, 0.4],\n",
       "        [4.6, 3.4, 1.4, 0.3],\n",
       "        [5. , 3.4, 1.5, 0.2],\n",
       "        [4.4, 2.9, 1.4, 0.2],\n",
       "        [4.9, 3.1, 1.5, 0.1],\n",
       "        [5.4, 3.7, 1.5, 0.2],\n",
       "        [4.8, 3.4, 1.6, 0.2],\n",
       "        [4.8, 3. , 1.4, 0.1],\n",
       "        [4.3, 3. , 1.1, 0.1],\n",
       "        [5.8, 4. , 1.2, 0.2],\n",
       "        [5.7, 4.4, 1.5, 0.4],\n",
       "        [5.4, 3.9, 1.3, 0.4],\n",
       "        [5.1, 3.5, 1.4, 0.3],\n",
       "        [5.7, 3.8, 1.7, 0.3],\n",
       "        [5.1, 3.8, 1.5, 0.3],\n",
       "        [5.4, 3.4, 1.7, 0.2],\n",
       "        [5.1, 3.7, 1.5, 0.4],\n",
       "        [4.6, 3.6, 1. , 0.2],\n",
       "        [5.1, 3.3, 1.7, 0.5],\n",
       "        [4.8, 3.4, 1.9, 0.2],\n",
       "        [5. , 3. , 1.6, 0.2],\n",
       "        [5. , 3.4, 1.6, 0.4],\n",
       "        [5.2, 3.5, 1.5, 0.2],\n",
       "        [5.2, 3.4, 1.4, 0.2],\n",
       "        [4.7, 3.2, 1.6, 0.2],\n",
       "        [4.8, 3.1, 1.6, 0.2],\n",
       "        [5.4, 3.4, 1.5, 0.4],\n",
       "        [5.2, 4.1, 1.5, 0.1],\n",
       "        [5.5, 4.2, 1.4, 0.2],\n",
       "        [4.9, 3.1, 1.5, 0.2],\n",
       "        [5. , 3.2, 1.2, 0.2],\n",
       "        [5.5, 3.5, 1.3, 0.2],\n",
       "        [4.9, 3.6, 1.4, 0.1],\n",
       "        [4.4, 3. , 1.3, 0.2],\n",
       "        [5.1, 3.4, 1.5, 0.2],\n",
       "        [5. , 3.5, 1.3, 0.3],\n",
       "        [4.5, 2.3, 1.3, 0.3],\n",
       "        [4.4, 3.2, 1.3, 0.2],\n",
       "        [5. , 3.5, 1.6, 0.6],\n",
       "        [5.1, 3.8, 1.9, 0.4],\n",
       "        [4.8, 3. , 1.4, 0.3],\n",
       "        [5.1, 3.8, 1.6, 0.2],\n",
       "        [4.6, 3.2, 1.4, 0.2],\n",
       "        [5.3, 3.7, 1.5, 0.2],\n",
       "        [5. , 3.3, 1.4, 0.2],\n",
       "        [7. , 3.2, 4.7, 1.4],\n",
       "        [6.4, 3.2, 4.5, 1.5],\n",
       "        [6.9, 3.1, 4.9, 1.5],\n",
       "        [5.5, 2.3, 4. , 1.3],\n",
       "        [6.5, 2.8, 4.6, 1.5],\n",
       "        [5.7, 2.8, 4.5, 1.3],\n",
       "        [6.3, 3.3, 4.7, 1.6],\n",
       "        [4.9, 2.4, 3.3, 1. ],\n",
       "        [6.6, 2.9, 4.6, 1.3],\n",
       "        [5.2, 2.7, 3.9, 1.4],\n",
       "        [5. , 2. , 3.5, 1. ],\n",
       "        [5.9, 3. , 4.2, 1.5],\n",
       "        [6. , 2.2, 4. , 1. ],\n",
       "        [6.1, 2.9, 4.7, 1.4],\n",
       "        [5.6, 2.9, 3.6, 1.3],\n",
       "        [6.7, 3.1, 4.4, 1.4],\n",
       "        [5.6, 3. , 4.5, 1.5],\n",
       "        [5.8, 2.7, 4.1, 1. ],\n",
       "        [6.2, 2.2, 4.5, 1.5],\n",
       "        [5.6, 2.5, 3.9, 1.1],\n",
       "        [5.9, 3.2, 4.8, 1.8],\n",
       "        [6.1, 2.8, 4. , 1.3],\n",
       "        [6.3, 2.5, 4.9, 1.5],\n",
       "        [6.1, 2.8, 4.7, 1.2],\n",
       "        [6.4, 2.9, 4.3, 1.3],\n",
       "        [6.6, 3. , 4.4, 1.4],\n",
       "        [6.8, 2.8, 4.8, 1.4],\n",
       "        [6.7, 3. , 5. , 1.7],\n",
       "        [6. , 2.9, 4.5, 1.5],\n",
       "        [5.7, 2.6, 3.5, 1. ],\n",
       "        [5.5, 2.4, 3.8, 1.1],\n",
       "        [5.5, 2.4, 3.7, 1. ],\n",
       "        [5.8, 2.7, 3.9, 1.2],\n",
       "        [6. , 2.7, 5.1, 1.6],\n",
       "        [5.4, 3. , 4.5, 1.5],\n",
       "        [6. , 3.4, 4.5, 1.6],\n",
       "        [6.7, 3.1, 4.7, 1.5],\n",
       "        [6.3, 2.3, 4.4, 1.3],\n",
       "        [5.6, 3. , 4.1, 1.3],\n",
       "        [5.5, 2.5, 4. , 1.3],\n",
       "        [5.5, 2.6, 4.4, 1.2],\n",
       "        [6.1, 3. , 4.6, 1.4],\n",
       "        [5.8, 2.6, 4. , 1.2],\n",
       "        [5. , 2.3, 3.3, 1. ],\n",
       "        [5.6, 2.7, 4.2, 1.3],\n",
       "        [5.7, 3. , 4.2, 1.2],\n",
       "        [5.7, 2.9, 4.2, 1.3],\n",
       "        [6.2, 2.9, 4.3, 1.3],\n",
       "        [5.1, 2.5, 3. , 1.1],\n",
       "        [5.7, 2.8, 4.1, 1.3],\n",
       "        [6.3, 3.3, 6. , 2.5],\n",
       "        [5.8, 2.7, 5.1, 1.9],\n",
       "        [7.1, 3. , 5.9, 2.1],\n",
       "        [6.3, 2.9, 5.6, 1.8],\n",
       "        [6.5, 3. , 5.8, 2.2],\n",
       "        [7.6, 3. , 6.6, 2.1],\n",
       "        [4.9, 2.5, 4.5, 1.7],\n",
       "        [7.3, 2.9, 6.3, 1.8],\n",
       "        [6.7, 2.5, 5.8, 1.8],\n",
       "        [7.2, 3.6, 6.1, 2.5],\n",
       "        [6.5, 3.2, 5.1, 2. ],\n",
       "        [6.4, 2.7, 5.3, 1.9],\n",
       "        [6.8, 3. , 5.5, 2.1],\n",
       "        [5.7, 2.5, 5. , 2. ],\n",
       "        [5.8, 2.8, 5.1, 2.4],\n",
       "        [6.4, 3.2, 5.3, 2.3],\n",
       "        [6.5, 3. , 5.5, 1.8],\n",
       "        [7.7, 3.8, 6.7, 2.2],\n",
       "        [7.7, 2.6, 6.9, 2.3],\n",
       "        [6. , 2.2, 5. , 1.5],\n",
       "        [6.9, 3.2, 5.7, 2.3],\n",
       "        [5.6, 2.8, 4.9, 2. ],\n",
       "        [7.7, 2.8, 6.7, 2. ],\n",
       "        [6.3, 2.7, 4.9, 1.8],\n",
       "        [6.7, 3.3, 5.7, 2.1],\n",
       "        [7.2, 3.2, 6. , 1.8],\n",
       "        [6.2, 2.8, 4.8, 1.8],\n",
       "        [6.1, 3. , 4.9, 1.8],\n",
       "        [6.4, 2.8, 5.6, 2.1],\n",
       "        [7.2, 3. , 5.8, 1.6],\n",
       "        [7.4, 2.8, 6.1, 1.9],\n",
       "        [7.9, 3.8, 6.4, 2. ],\n",
       "        [6.4, 2.8, 5.6, 2.2],\n",
       "        [6.3, 2.8, 5.1, 1.5],\n",
       "        [6.1, 2.6, 5.6, 1.4],\n",
       "        [7.7, 3. , 6.1, 2.3],\n",
       "        [6.3, 3.4, 5.6, 2.4],\n",
       "        [6.4, 3.1, 5.5, 1.8],\n",
       "        [6. , 3. , 4.8, 1.8],\n",
       "        [6.9, 3.1, 5.4, 2.1],\n",
       "        [6.7, 3.1, 5.6, 2.4],\n",
       "        [6.9, 3.1, 5.1, 2.3],\n",
       "        [5.8, 2.7, 5.1, 1.9],\n",
       "        [6.8, 3.2, 5.9, 2.3],\n",
       "        [6.7, 3.3, 5.7, 2.5],\n",
       "        [6.7, 3. , 5.2, 2.3],\n",
       "        [6.3, 2.5, 5. , 1.9],\n",
       "        [6.5, 3. , 5.2, 2. ],\n",
       "        [6.2, 3.4, 5.4, 2.3],\n",
       "        [5.9, 3. , 5.1, 1.8]]),\n",
       " 'target': array([0, 0, 0, 0, 0, 0, 0, 0, 0, 0, 0, 0, 0, 0, 0, 0, 0, 0, 0, 0, 0, 0,\n",
       "        0, 0, 0, 0, 0, 0, 0, 0, 0, 0, 0, 0, 0, 0, 0, 0, 0, 0, 0, 0, 0, 0,\n",
       "        0, 0, 0, 0, 0, 0, 1, 1, 1, 1, 1, 1, 1, 1, 1, 1, 1, 1, 1, 1, 1, 1,\n",
       "        1, 1, 1, 1, 1, 1, 1, 1, 1, 1, 1, 1, 1, 1, 1, 1, 1, 1, 1, 1, 1, 1,\n",
       "        1, 1, 1, 1, 1, 1, 1, 1, 1, 1, 1, 1, 2, 2, 2, 2, 2, 2, 2, 2, 2, 2,\n",
       "        2, 2, 2, 2, 2, 2, 2, 2, 2, 2, 2, 2, 2, 2, 2, 2, 2, 2, 2, 2, 2, 2,\n",
       "        2, 2, 2, 2, 2, 2, 2, 2, 2, 2, 2, 2, 2, 2, 2, 2, 2, 2]),\n",
       " 'frame': None,\n",
       " 'target_names': array(['setosa', 'versicolor', 'virginica'], dtype='<U10'),\n",
       " 'DESCR': '.. _iris_dataset:\\n\\nIris plants dataset\\n--------------------\\n\\n**Data Set Characteristics:**\\n\\n    :Number of Instances: 150 (50 in each of three classes)\\n    :Number of Attributes: 4 numeric, predictive attributes and the class\\n    :Attribute Information:\\n        - sepal length in cm\\n        - sepal width in cm\\n        - petal length in cm\\n        - petal width in cm\\n        - class:\\n                - Iris-Setosa\\n                - Iris-Versicolour\\n                - Iris-Virginica\\n                \\n    :Summary Statistics:\\n\\n    ============== ==== ==== ======= ===== ====================\\n                    Min  Max   Mean    SD   Class Correlation\\n    ============== ==== ==== ======= ===== ====================\\n    sepal length:   4.3  7.9   5.84   0.83    0.7826\\n    sepal width:    2.0  4.4   3.05   0.43   -0.4194\\n    petal length:   1.0  6.9   3.76   1.76    0.9490  (high!)\\n    petal width:    0.1  2.5   1.20   0.76    0.9565  (high!)\\n    ============== ==== ==== ======= ===== ====================\\n\\n    :Missing Attribute Values: None\\n    :Class Distribution: 33.3% for each of 3 classes.\\n    :Creator: R.A. Fisher\\n    :Donor: Michael Marshall (MARSHALL%PLU@io.arc.nasa.gov)\\n    :Date: July, 1988\\n\\nThe famous Iris database, first used by Sir R.A. Fisher. The dataset is taken\\nfrom Fisher\\'s paper. Note that it\\'s the same as in R, but not as in the UCI\\nMachine Learning Repository, which has two wrong data points.\\n\\nThis is perhaps the best known database to be found in the\\npattern recognition literature.  Fisher\\'s paper is a classic in the field and\\nis referenced frequently to this day.  (See Duda & Hart, for example.)  The\\ndata set contains 3 classes of 50 instances each, where each class refers to a\\ntype of iris plant.  One class is linearly separable from the other 2; the\\nlatter are NOT linearly separable from each other.\\n\\n.. topic:: References\\n\\n   - Fisher, R.A. \"The use of multiple measurements in taxonomic problems\"\\n     Annual Eugenics, 7, Part II, 179-188 (1936); also in \"Contributions to\\n     Mathematical Statistics\" (John Wiley, NY, 1950).\\n   - Duda, R.O., & Hart, P.E. (1973) Pattern Classification and Scene Analysis.\\n     (Q327.D83) John Wiley & Sons.  ISBN 0-471-22361-1.  See page 218.\\n   - Dasarathy, B.V. (1980) \"Nosing Around the Neighborhood: A New System\\n     Structure and Classification Rule for Recognition in Partially Exposed\\n     Environments\".  IEEE Transactions on Pattern Analysis and Machine\\n     Intelligence, Vol. PAMI-2, No. 1, 67-71.\\n   - Gates, G.W. (1972) \"The Reduced Nearest Neighbor Rule\".  IEEE Transactions\\n     on Information Theory, May 1972, 431-433.\\n   - See also: 1988 MLC Proceedings, 54-64.  Cheeseman et al\"s AUTOCLASS II\\n     conceptual clustering system finds 3 classes in the data.\\n   - Many, many more ...',\n",
       " 'feature_names': ['sepal length (cm)',\n",
       "  'sepal width (cm)',\n",
       "  'petal length (cm)',\n",
       "  'petal width (cm)'],\n",
       " 'filename': 'iris.csv',\n",
       " 'data_module': 'sklearn.datasets.data'}"
      ]
     },
     "execution_count": 117,
     "metadata": {},
     "output_type": "execute_result"
    }
   ],
   "source": [
    "from sklearn.datasets import load_iris\n",
    "\n",
    "iris = load_iris()\n",
    "iris"
   ]
  },
  {
   "cell_type": "code",
   "execution_count": 104,
   "id": "91ffee67",
   "metadata": {},
   "outputs": [
    {
     "data": {
      "image/png": "[encoded data removed]",
      "text/plain": [
       "<Figure size 720x720 with 1 Axes>"
      ]
     },
     "metadata": {},
     "output_type": "display_data"
    }
   ],
   "source": [
    "k=5; filename='iris_grid.pdf'; limits=(4,8,1.5,4.5); h=0.1 # h is step\n",
    "xx, yy, prediction_grid = make_prediction_grid(predictors, outcomes, limits, h, k)\n",
    "plot_prediction_grid (xx, yy, prediction_grid, filename)\n"
   ]
  },
  {
   "cell_type": "code",
   "execution_count": 107,
   "id": "a84f463b",
   "metadata": {},
   "outputs": [],
   "source": [
    "from sklearn.neighbors import KNeighborsClassifier\n",
    "knn = KNeighborsClassifier(n_neighbors = 5)\n",
    "knn.fit(predictors, outcomes)\n",
    "sk_predictions = knn.predict(predictors)"
   ]
  },
  {
   "cell_type": "code",
   "execution_count": 111,
   "id": "03b007f5",
   "metadata": {},
   "outputs": [],
   "source": [
    "my_predictions = np.array([knn_predict(p, predictors, outcomes, 5) for p in predictors])"
   ]
  },
  {
   "cell_type": "code",
   "execution_count": 113,
   "id": "988047ee",
   "metadata": {},
   "outputs": [
    {
     "name": "stdout",
     "output_type": "stream",
     "text": [
      "97.33333333333334\n"
     ]
    }
   ],
   "source": [
    "print(100*np.mean(sk_predictions==my_predictions ))"
   ]
  },
  {
   "cell_type": "code",
   "execution_count": 114,
   "id": "137d88e2",
   "metadata": {},
   "outputs": [
    {
     "name": "stdout",
     "output_type": "stream",
     "text": [
      "83.33333333333334\n",
      "84.66666666666667\n"
     ]
    }
   ],
   "source": [
    "print(100*np.mean(sk_predictions==outcomes ))\n",
    "print(100*np.mean(my_predictions==outcomes ))"
   ]
  },
  {
   "cell_type": "code",
   "execution_count": 115,
   "id": "f06860d9",
   "metadata": {},
   "outputs": [],
   "source": [
    "# What are the four variables in the iris dataset described in Video 3.3.8?\n",
    "# Sepal length, sepal width, petal length, petal width\n",
    "\n",
    "# How many different species are contained in the iris dataset described in Video 3.3.8?\n",
    "# 3\n",
    "\n",
    "# How often do the predictions from the homemade and scikit-learn kNN classifiers accurately predict the class of the data in the iris dataset described in Video 3.3.8?\n",
    "\n",
    "# Approximately 85% of the time"
   ]
  },
  {
   "cell_type": "code",
   "execution_count": null,
   "id": "07bc5ad3",
   "metadata": {},
   "outputs": [],
   "source": []
  },
  {
   "cell_type": "code",
   "execution_count": null,
   "id": "6795d2b4",
   "metadata": {},
   "outputs": [],
   "source": []
  },
  {
   "cell_type": "code",
   "execution_count": null,
   "id": "0c3f6699",
   "metadata": {},
   "outputs": [],
   "source": []
  },
  {
   "cell_type": "code",
   "execution_count": null,
   "id": "e175149b",
   "metadata": {},
   "outputs": [],
   "source": []
  },
  {
   "cell_type": "code",
   "execution_count": null,
   "id": "6b16566e",
   "metadata": {},
   "outputs": [],
   "source": []
  }
 ],
 "metadata": {
  "kernelspec": {
   "display_name": "Python 3 (ipykernel)",
   "language": "python",
   "name": "python3"
  },
  "language_info": {
   "codemirror_mode": {
    "name": "ipython",
    "version": 3
   },
   "file_extension": ".py",
   "mimetype": "text/x-python",
   "name": "python",
   "nbconvert_exporter": "python",
   "pygments_lexer": "ipython3",
   "version": "3.9.7"
  }
 },
 "nbformat": 4,
 "nbformat_minor": 5
}
